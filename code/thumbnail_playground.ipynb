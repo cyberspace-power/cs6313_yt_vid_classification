{
  "nbformat": 4,
  "nbformat_minor": 0,
  "metadata": {
    "colab": {
      "name": "Copy of thumbnail_playground.ipynb",
      "provenance": [],
      "collapsed_sections": []
    },
    "kernelspec": {
      "name": "python3",
      "display_name": "Python 3"
    },
    "language_info": {
      "name": "python"
    },
    "accelerator": "GPU"
  },
  "cells": [
    {
      "cell_type": "code",
      "execution_count": null,
      "metadata": {
        "id": "v1mS2IMwANXz"
      },
      "outputs": [],
      "source": [
        "# CNN models for image classification\n",
        "# 1. ResNet\n",
        "# 2. InceptionNet/GoogLeNet (inception v4)\n",
        "# 3. MobileNet\n",
        "\n",
        "# RNN models for text classification\n",
        "# 1. Logistic Regression\n",
        "# 2. RNN\n",
        "# 3. LSTM\n",
        "# 4. BERT (optional)"
      ]
    },
    {
      "cell_type": "code",
      "source": [
        "!git clone https://github.com/cyberspace-power/cs6313_yt_vid_classification.git"
      ],
      "metadata": {
        "colab": {
          "base_uri": "https://localhost:8080/"
        },
        "id": "RmAHSkuPlaU9",
        "outputId": "cf1519eb-3cd7-4585-deac-62d862ac183a"
      },
      "execution_count": null,
      "outputs": [
        {
          "output_type": "stream",
          "name": "stdout",
          "text": [
            "Cloning into 'cs6313_yt_vid_classification'...\n",
            "remote: Enumerating objects: 15489, done.\u001b[K\n",
            "remote: Counting objects: 100% (3821/3821), done.\u001b[K\n",
            "remote: Compressing objects: 100% (3819/3819), done.\u001b[K\n",
            "remote: Total 15489 (delta 4), reused 3814 (delta 1), pack-reused 11668\u001b[K\n",
            "Receiving objects: 100% (15489/15489), 1.19 GiB | 24.03 MiB/s, done.\n",
            "Resolving deltas: 100% (14/14), done.\n",
            "Checking out files: 100% (15446/15446), done.\n"
          ]
        }
      ]
    },
    {
      "cell_type": "code",
      "source": [
        "!git pull"
      ],
      "metadata": {
        "id": "5IvpT4jO7w9u"
      },
      "execution_count": null,
      "outputs": []
    },
    {
      "cell_type": "code",
      "source": [
        "import tensorflow as tf\n",
        "from tensorflow.keras.layers import Input, Conv2D\n",
        "from tensorflow.keras.layers import MaxPool2D, Flatten, Dense, Dropout\n",
        "from keras.layers import Concatenate\n",
        "from tensorflow.keras import Model\n",
        "from tensorflow.keras.optimizers import Adam, SGD, RMSprop\n",
        "from tensorflow.keras.utils import to_categorical\n",
        "from tensorflow.keras.callbacks import EarlyStopping, ModelCheckpoint\n",
        "from keras.models import Sequential\n",
        "import cv2\n",
        "import matplotlib.pyplot as plt\n",
        "import numpy as np\n",
        "import os\n",
        "import pandas as pd\n",
        "\n",
        "from tensorflow import keras\n",
        "from tensorflow.keras import layers\n",
        "\n",
        "from tensorflow.keras.applications import ResNet50V2"
      ],
      "metadata": {
        "id": "V0tV4FxbVytD"
      },
      "execution_count": null,
      "outputs": []
    },
    {
      "cell_type": "code",
      "source": [
        "# from tqdm import tqdm\n",
        "# image_filepath = 'cs6313_yt_vid_classification/dataset/category_wise_thumbnails/'\n",
        "\n",
        "# def read_image_data(categories = ['1', '2', '10', '17']):\n",
        "\n",
        "#     image_data = []\n",
        "#     label_data = []\n",
        "#     title_data = []\n",
        "\n",
        "#     # with open('/content/drive/MyDrive/category_wise_thumbnails/17') as filepath:\n",
        "#     for x in categories:\n",
        "#       for img in tqdm(os.listdir(image_filepath+'category_'+x), desc = \"loading\"):\n",
        "\n",
        "#         image_path = os.path.join(image_filepath+'category_'+x+'/', img)\n",
        "\n",
        "#         # loading the image from the path and then converting them into\n",
        "#         # grayscale for easier covnet prob\n",
        "#         thumbnail = cv2.imread(image_path)\n",
        "#         # thumbnail=cv2.resize(thumbnail, (224, 224, 3),interpolation = cv2.INTER_AREA)\n",
        "#         thumbnail = np.array(thumbnail)\n",
        "#         thumbnail = thumbnail.astype('float32')\n",
        "#         thumbnail /= 255\n",
        "\n",
        "#         # final step-forming the training data list with numpy array of the images\n",
        "#         image_data.append(np.array(thumbnail))\n",
        "#         label_data.append(int(x))\n",
        "#         title_data.append(img)\n",
        "    \n",
        "#     df = pd.DataFrame({'Image':image_data, 'Category':label_data, 'Video Id':title_data})\n",
        " \n",
        "#     # shuffling of the training data to preserve the random state of our data\n",
        "#     # from random import shuffle\n",
        "#     # shuffle(training_data)\n",
        "\n",
        "#     df = df.sample(frac=1).reset_index(drop=True)\n",
        "#     # print(df.head())\n",
        "#     # print(df.shape)\n",
        " \n",
        "#     # saving our trained data for further uses if required \n",
        "#     # np.save('train_data.npy', training_data)\n",
        "#     return df"
      ],
      "metadata": {
        "id": "JBD-2AvlpFKO"
      },
      "execution_count": null,
      "outputs": []
    },
    {
      "cell_type": "code",
      "source": [
        "from tqdm import tqdm\n",
        "image_filepath = 'cs6313_yt_vid_classification/dataset/category_wise_thumbnails/'\n",
        "\n",
        "def read_image_data(categories = ['1', '2', '10', '17']):\n",
        "\n",
        "    # image_data = []\n",
        "    label_data = []\n",
        "    title_data = []\n",
        "\n",
        "    for x in categories:\n",
        "      for img in tqdm(os.listdir(image_filepath+'category_'+x), desc = \"loading\"):\n",
        "\n",
        "        image_path = os.path.join(image_filepath+'category_'+x+'/', img)\n",
        "        label_data.append(x)\n",
        "        title_data.append('category_'+x+'/'+img)\n",
        "    \n",
        "    df = pd.DataFrame({'Video Id':title_data, 'Category':label_data})\n",
        "    df = df.sample(frac=1).reset_index(drop=True)\n",
        "    return df"
      ],
      "metadata": {
        "id": "Fb-u3n1rmf-o"
      },
      "execution_count": null,
      "outputs": []
    },
    {
      "cell_type": "code",
      "source": [
        "image_df = read_image_data()\n",
        "image_df"
      ],
      "metadata": {
        "colab": {
          "base_uri": "https://localhost:8080/",
          "height": 495
        },
        "id": "ugWcbwyhm61x",
        "outputId": "8a188bcc-49c9-4f45-f79a-9380e54c7e77"
      },
      "execution_count": null,
      "outputs": [
        {
          "output_type": "stream",
          "name": "stderr",
          "text": [
            "loading: 100%|██████████| 3797/3797 [00:00<00:00, 327697.53it/s]\n",
            "loading: 100%|██████████| 3797/3797 [00:00<00:00, 335244.13it/s]\n",
            "loading: 100%|██████████| 3797/3797 [00:00<00:00, 348973.89it/s]\n",
            "loading: 100%|██████████| 3797/3797 [00:00<00:00, 437617.40it/s]\n"
          ]
        },
        {
          "output_type": "execute_result",
          "data": {
            "text/plain": [
              "                          Video Id Category\n",
              "0       category_1/byXx0G8SbaI.jpg        1\n",
              "1       category_1/YwOys7qEhGU.jpg        1\n",
              "2      category_17/nP5S-sCN4cQ.jpg       17\n",
              "3      category_17/ZaBJrgD0rlw.jpg       17\n",
              "4      category_10/woYAVroa_yc.jpg       10\n",
              "...                            ...      ...\n",
              "15183  category_17/TsvgRI6fuOw.jpg       17\n",
              "15184   category_2/CAGNBxuCU7U.jpg        2\n",
              "15185   category_2/FR5ebakzAHw.jpg        2\n",
              "15186   category_1/KvLzkmLrFOs.jpg        1\n",
              "15187  category_17/RPamdoQjeYQ.jpg       17\n",
              "\n",
              "[15188 rows x 2 columns]"
            ],
            "text/html": [
              "\n",
              "  <div id=\"df-1ac1521e-f01c-42ed-842b-09b34473e5dd\">\n",
              "    <div class=\"colab-df-container\">\n",
              "      <div>\n",
              "<style scoped>\n",
              "    .dataframe tbody tr th:only-of-type {\n",
              "        vertical-align: middle;\n",
              "    }\n",
              "\n",
              "    .dataframe tbody tr th {\n",
              "        vertical-align: top;\n",
              "    }\n",
              "\n",
              "    .dataframe thead th {\n",
              "        text-align: right;\n",
              "    }\n",
              "</style>\n",
              "<table border=\"1\" class=\"dataframe\">\n",
              "  <thead>\n",
              "    <tr style=\"text-align: right;\">\n",
              "      <th></th>\n",
              "      <th>Video Id</th>\n",
              "      <th>Category</th>\n",
              "    </tr>\n",
              "  </thead>\n",
              "  <tbody>\n",
              "    <tr>\n",
              "      <th>0</th>\n",
              "      <td>category_1/byXx0G8SbaI.jpg</td>\n",
              "      <td>1</td>\n",
              "    </tr>\n",
              "    <tr>\n",
              "      <th>1</th>\n",
              "      <td>category_1/YwOys7qEhGU.jpg</td>\n",
              "      <td>1</td>\n",
              "    </tr>\n",
              "    <tr>\n",
              "      <th>2</th>\n",
              "      <td>category_17/nP5S-sCN4cQ.jpg</td>\n",
              "      <td>17</td>\n",
              "    </tr>\n",
              "    <tr>\n",
              "      <th>3</th>\n",
              "      <td>category_17/ZaBJrgD0rlw.jpg</td>\n",
              "      <td>17</td>\n",
              "    </tr>\n",
              "    <tr>\n",
              "      <th>4</th>\n",
              "      <td>category_10/woYAVroa_yc.jpg</td>\n",
              "      <td>10</td>\n",
              "    </tr>\n",
              "    <tr>\n",
              "      <th>...</th>\n",
              "      <td>...</td>\n",
              "      <td>...</td>\n",
              "    </tr>\n",
              "    <tr>\n",
              "      <th>15183</th>\n",
              "      <td>category_17/TsvgRI6fuOw.jpg</td>\n",
              "      <td>17</td>\n",
              "    </tr>\n",
              "    <tr>\n",
              "      <th>15184</th>\n",
              "      <td>category_2/CAGNBxuCU7U.jpg</td>\n",
              "      <td>2</td>\n",
              "    </tr>\n",
              "    <tr>\n",
              "      <th>15185</th>\n",
              "      <td>category_2/FR5ebakzAHw.jpg</td>\n",
              "      <td>2</td>\n",
              "    </tr>\n",
              "    <tr>\n",
              "      <th>15186</th>\n",
              "      <td>category_1/KvLzkmLrFOs.jpg</td>\n",
              "      <td>1</td>\n",
              "    </tr>\n",
              "    <tr>\n",
              "      <th>15187</th>\n",
              "      <td>category_17/RPamdoQjeYQ.jpg</td>\n",
              "      <td>17</td>\n",
              "    </tr>\n",
              "  </tbody>\n",
              "</table>\n",
              "<p>15188 rows × 2 columns</p>\n",
              "</div>\n",
              "      <button class=\"colab-df-convert\" onclick=\"convertToInteractive('df-1ac1521e-f01c-42ed-842b-09b34473e5dd')\"\n",
              "              title=\"Convert this dataframe to an interactive table.\"\n",
              "              style=\"display:none;\">\n",
              "        \n",
              "  <svg xmlns=\"http://www.w3.org/2000/svg\" height=\"24px\"viewBox=\"0 0 24 24\"\n",
              "       width=\"24px\">\n",
              "    <path d=\"M0 0h24v24H0V0z\" fill=\"none\"/>\n",
              "    <path d=\"M18.56 5.44l.94 2.06.94-2.06 2.06-.94-2.06-.94-.94-2.06-.94 2.06-2.06.94zm-11 1L8.5 8.5l.94-2.06 2.06-.94-2.06-.94L8.5 2.5l-.94 2.06-2.06.94zm10 10l.94 2.06.94-2.06 2.06-.94-2.06-.94-.94-2.06-.94 2.06-2.06.94z\"/><path d=\"M17.41 7.96l-1.37-1.37c-.4-.4-.92-.59-1.43-.59-.52 0-1.04.2-1.43.59L10.3 9.45l-7.72 7.72c-.78.78-.78 2.05 0 2.83L4 21.41c.39.39.9.59 1.41.59.51 0 1.02-.2 1.41-.59l7.78-7.78 2.81-2.81c.8-.78.8-2.07 0-2.86zM5.41 20L4 18.59l7.72-7.72 1.47 1.35L5.41 20z\"/>\n",
              "  </svg>\n",
              "      </button>\n",
              "      \n",
              "  <style>\n",
              "    .colab-df-container {\n",
              "      display:flex;\n",
              "      flex-wrap:wrap;\n",
              "      gap: 12px;\n",
              "    }\n",
              "\n",
              "    .colab-df-convert {\n",
              "      background-color: #E8F0FE;\n",
              "      border: none;\n",
              "      border-radius: 50%;\n",
              "      cursor: pointer;\n",
              "      display: none;\n",
              "      fill: #1967D2;\n",
              "      height: 32px;\n",
              "      padding: 0 0 0 0;\n",
              "      width: 32px;\n",
              "    }\n",
              "\n",
              "    .colab-df-convert:hover {\n",
              "      background-color: #E2EBFA;\n",
              "      box-shadow: 0px 1px 2px rgba(60, 64, 67, 0.3), 0px 1px 3px 1px rgba(60, 64, 67, 0.15);\n",
              "      fill: #174EA6;\n",
              "    }\n",
              "\n",
              "    [theme=dark] .colab-df-convert {\n",
              "      background-color: #3B4455;\n",
              "      fill: #D2E3FC;\n",
              "    }\n",
              "\n",
              "    [theme=dark] .colab-df-convert:hover {\n",
              "      background-color: #434B5C;\n",
              "      box-shadow: 0px 1px 3px 1px rgba(0, 0, 0, 0.15);\n",
              "      filter: drop-shadow(0px 1px 2px rgba(0, 0, 0, 0.3));\n",
              "      fill: #FFFFFF;\n",
              "    }\n",
              "  </style>\n",
              "\n",
              "      <script>\n",
              "        const buttonEl =\n",
              "          document.querySelector('#df-1ac1521e-f01c-42ed-842b-09b34473e5dd button.colab-df-convert');\n",
              "        buttonEl.style.display =\n",
              "          google.colab.kernel.accessAllowed ? 'block' : 'none';\n",
              "\n",
              "        async function convertToInteractive(key) {\n",
              "          const element = document.querySelector('#df-1ac1521e-f01c-42ed-842b-09b34473e5dd');\n",
              "          const dataTable =\n",
              "            await google.colab.kernel.invokeFunction('convertToInteractive',\n",
              "                                                     [key], {});\n",
              "          if (!dataTable) return;\n",
              "\n",
              "          const docLinkHtml = 'Like what you see? Visit the ' +\n",
              "            '<a target=\"_blank\" href=https://colab.research.google.com/notebooks/data_table.ipynb>data table notebook</a>'\n",
              "            + ' to learn more about interactive tables.';\n",
              "          element.innerHTML = '';\n",
              "          dataTable['output_type'] = 'display_data';\n",
              "          await google.colab.output.renderOutput(dataTable, element);\n",
              "          const docLink = document.createElement('div');\n",
              "          docLink.innerHTML = docLinkHtml;\n",
              "          element.appendChild(docLink);\n",
              "        }\n",
              "      </script>\n",
              "    </div>\n",
              "  </div>\n",
              "  "
            ]
          },
          "metadata": {},
          "execution_count": 16
        }
      ]
    },
    {
      "cell_type": "code",
      "source": [
        "!ls cs6313_yt_vid_classification/dataset/category_wise_thumbnails/"
      ],
      "metadata": {
        "colab": {
          "base_uri": "https://localhost:8080/"
        },
        "id": "KctvvW7LpfZ3",
        "outputId": "a361ea2a-ba64-4df0-a85d-cdb704dfc905"
      },
      "execution_count": null,
      "outputs": [
        {
          "output_type": "stream",
          "name": "stdout",
          "text": [
            "category_1  category_10  category_17  category_2\n"
          ]
        }
      ]
    },
    {
      "cell_type": "code",
      "source": [
        "from tensorflow.keras.preprocessing.image import ImageDataGenerator\n",
        "\n",
        "img_gen = ImageDataGenerator(rescale=1/255, validation_split=0.2)\n",
        "\n",
        "img_iter = img_gen.flow_from_dataframe(\n",
        "    image_df,\n",
        "    shuffle=True,\n",
        "    directory='cs6313_yt_vid_classification/dataset/category_wise_thumbnails/',\n",
        "    x_col='Video Id',\n",
        "    y_col='Category',\n",
        "    class_mode='sparse',\n",
        "    #target_size=(360, 240),\n",
        "    target_size=(480, 360),\n",
        "    batch_size=32,\n",
        "    subset='training'\n",
        ")\n",
        "\n",
        "img_iter_val = img_gen.flow_from_dataframe(\n",
        "    image_df,\n",
        "    shuffle=True,\n",
        "    directory='cs6313_yt_vid_classification/dataset/category_wise_thumbnails/',\n",
        "    x_col='Video Id',\n",
        "    y_col='Category',\n",
        "    class_mode='sparse',\n",
        "    #target_size=(360, 240),\n",
        "    target_size=(480, 360),\n",
        "    batch_size=32,\n",
        "    subset='validation'\n",
        ")"
      ],
      "metadata": {
        "colab": {
          "base_uri": "https://localhost:8080/"
        },
        "id": "rfzS-Fn_gwoM",
        "outputId": "3213d6d7-6261-4a16-876d-517a53b68a96"
      },
      "execution_count": null,
      "outputs": [
        {
          "output_type": "stream",
          "name": "stdout",
          "text": [
            "Found 12151 validated image filenames belonging to 4 classes.\n",
            "Found 3037 validated image filenames belonging to 4 classes.\n"
          ]
        }
      ]
    },
    {
      "cell_type": "markdown",
      "source": [
        "CNN model"
      ],
      "metadata": {
        "id": "KHOj--ma0OGy"
      }
    },
    {
      "cell_type": "code",
      "source": [
        "# CNN base model\n",
        "# base_model = tf.keras.applications.ResNet50(\n",
        "#     include_top=False,\n",
        "#     weights=\"imagenet\",\n",
        "#     input_tensor=None,\n",
        "#     input_shape=(480, 360, 3),\n",
        "#     pooling='avg',\n",
        "#     classes=4\n",
        "# )\n",
        "\n",
        "# base_model = tf.keras.applications.MobileNetV2(\n",
        "#     input_shape=(224, 224, 3),\n",
        "#     alpha=1.0,\n",
        "#     include_top=False,\n",
        "#     weights=\"imagenet\",\n",
        "#     pooling='avg',\n",
        "#     classes=4\n",
        "# )\n",
        "\n",
        "base_model = tf.keras.applications.Xception(\n",
        "    include_top=False,\n",
        "    weights=\"imagenet\",\n",
        "    input_shape=(480, 360, 3),\n",
        "    pooling='avg',\n",
        "    classes=4\n",
        ")\n",
        "\n",
        "# base_model = tf.keras.applications.Xception(input_shape = (224, 224, 3), include_top = False, weights = 'imagenet')\n",
        "# base_model.trainable = False\n",
        "\n",
        "# x = Flatten()(base_model.output)\n",
        "# x = Dense(1024, activation=\"relu\")(x)\n",
        "# x = Dropout(0.2)(x)\n",
        "# x = Dense(4, activation=\"softmax\")(x)\n",
        "# model = tf.keras.models.Model(base_model.input, x)\n",
        "# model.compile(optimizer=Adam(learning_rate=0.00001),\n",
        "#     loss='categorical_crossentropy',\n",
        "#     metrics=['accuracy']\n",
        "# )\n",
        "\n",
        "base_model.trainable = False\n",
        "\n",
        "# resnetv2_base = tf.keras.applications.ResNet50V2(\n",
        "#     include_top=False,\n",
        "#     weights=\"imagenet\",\n",
        "#     pooling='avg'\n",
        "# )\n",
        "\n",
        "# Add a classifier\n",
        "x = Flatten()(base_model.output)\n",
        "x = Dense(1024, activation='relu')(x)\n",
        "x = Dropout(0.2)(x)\n",
        "x = Dense(4, activation='softmax')(x) # change 2 to total number of classes\n",
        "cnn_model = tf.keras.models.Model(base_model.input, x)\n",
        "# Adam(lr=1e-3, decay=1e-3 / 200)\n",
        "cnn_model.compile(optimizer=Adam(learning_rate=1e-4, decay=0.001),\n",
        "    loss='sparse_categorical_crossentropy',  # change to categorical with shape[0,0,...1,0,0..] with length as the total number of thumbnail categories\n",
        "    metrics=['accuracy'])"
      ],
      "metadata": {
        "id": "D4yR1mKO0KNZ"
      },
      "execution_count": null,
      "outputs": []
    },
    {
      "cell_type": "code",
      "source": [
        "checkpoint = ModelCheckpoint(\"xception_1e-5_480x360.h5\", monitor='val_accuracy', verbose=1, save_best_only=True, save_weights_only=False, mode='auto')\n",
        "early = EarlyStopping(monitor='val_accuracy', min_delta=0, patience=2, verbose=1, mode='auto')\n",
        "\n",
        "hist = cnn_model.fit(img_iter, validation_data=img_iter_val, epochs=25, batch_size=32, callbacks=[checkpoint, early])\n",
        "\n",
        "# checkpoint = ModelCheckpoint(\"xception.h5\", monitor='val_accuracy', verbose=1, save_best_only=True, save_weights_only=False, mode='auto', period=1)\n",
        "# early = EarlyStopping(monitor='val_accuracy', min_delta=0, patience=20, verbose=1, mode='auto')\n",
        "# hist = model.fit(img_iter, validation_data=img_iter_val, epochs=25, batch_size=32, callbacks=[checkpoint, early])"
      ],
      "metadata": {
        "colab": {
          "base_uri": "https://localhost:8080/"
        },
        "id": "EYP84xmX1aMo",
        "outputId": "971b65c6-c574-4cec-a452-3ff5e05eecb8"
      },
      "execution_count": null,
      "outputs": [
        {
          "output_type": "stream",
          "name": "stdout",
          "text": [
            "Epoch 1/25\n",
            "380/380 [==============================] - ETA: 0s - loss: 0.7876 - accuracy: 0.7117\n",
            "Epoch 1: val_accuracy improved from -inf to 0.74020, saving model to xception_1e-5_480x360.h5\n",
            "380/380 [==============================] - 465s 1s/step - loss: 0.7876 - accuracy: 0.7117 - val_loss: 0.7084 - val_accuracy: 0.7402\n",
            "Epoch 2/25\n",
            "380/380 [==============================] - ETA: 0s - loss: 0.6813 - accuracy: 0.7493\n",
            "Epoch 2: val_accuracy improved from 0.74020 to 0.74350, saving model to xception_1e-5_480x360.h5\n",
            "380/380 [==============================] - 465s 1s/step - loss: 0.6813 - accuracy: 0.7493 - val_loss: 0.6981 - val_accuracy: 0.7435\n",
            "Epoch 3/25\n",
            "380/380 [==============================] - ETA: 0s - loss: 0.6515 - accuracy: 0.7591\n",
            "Epoch 3: val_accuracy improved from 0.74350 to 0.74877, saving model to xception_1e-5_480x360.h5\n",
            "380/380 [==============================] - 465s 1s/step - loss: 0.6515 - accuracy: 0.7591 - val_loss: 0.6902 - val_accuracy: 0.7488\n",
            "Epoch 4/25\n",
            "380/380 [==============================] - ETA: 0s - loss: 0.6282 - accuracy: 0.7690\n",
            "Epoch 4: val_accuracy improved from 0.74877 to 0.75107, saving model to xception_1e-5_480x360.h5\n",
            "380/380 [==============================] - 465s 1s/step - loss: 0.6282 - accuracy: 0.7690 - val_loss: 0.6844 - val_accuracy: 0.7511\n",
            "Epoch 5/25\n",
            "380/380 [==============================] - ETA: 0s - loss: 0.6118 - accuracy: 0.7763\n",
            "Epoch 5: val_accuracy improved from 0.75107 to 0.75173, saving model to xception_1e-5_480x360.h5\n",
            "380/380 [==============================] - 465s 1s/step - loss: 0.6118 - accuracy: 0.7763 - val_loss: 0.6838 - val_accuracy: 0.7517\n",
            "Epoch 6/25\n",
            "380/380 [==============================] - ETA: 0s - loss: 0.5973 - accuracy: 0.7864\n",
            "Epoch 6: val_accuracy improved from 0.75173 to 0.75206, saving model to xception_1e-5_480x360.h5\n",
            "380/380 [==============================] - 465s 1s/step - loss: 0.5973 - accuracy: 0.7864 - val_loss: 0.6816 - val_accuracy: 0.7521\n",
            "Epoch 7/25\n",
            "380/380 [==============================] - ETA: 0s - loss: 0.5841 - accuracy: 0.7899\n",
            "Epoch 7: val_accuracy improved from 0.75206 to 0.75338, saving model to xception_1e-5_480x360.h5\n",
            "380/380 [==============================] - 465s 1s/step - loss: 0.5841 - accuracy: 0.7899 - val_loss: 0.6808 - val_accuracy: 0.7534\n",
            "Epoch 8/25\n",
            "380/380 [==============================] - ETA: 0s - loss: 0.5758 - accuracy: 0.7960\n",
            "Epoch 8: val_accuracy improved from 0.75338 to 0.75700, saving model to xception_1e-5_480x360.h5\n",
            "380/380 [==============================] - 465s 1s/step - loss: 0.5758 - accuracy: 0.7960 - val_loss: 0.6804 - val_accuracy: 0.7570\n",
            "Epoch 9/25\n",
            "380/380 [==============================] - ETA: 0s - loss: 0.5670 - accuracy: 0.7979\n",
            "Epoch 9: val_accuracy did not improve from 0.75700\n",
            "380/380 [==============================] - 465s 1s/step - loss: 0.5670 - accuracy: 0.7979 - val_loss: 0.6852 - val_accuracy: 0.7481\n",
            "Epoch 10/25\n",
            "380/380 [==============================] - ETA: 0s - loss: 0.5562 - accuracy: 0.8008\n",
            "Epoch 10: val_accuracy did not improve from 0.75700\n",
            "380/380 [==============================] - 465s 1s/step - loss: 0.5562 - accuracy: 0.8008 - val_loss: 0.6792 - val_accuracy: 0.7517\n",
            "Epoch 10: early stopping\n"
          ]
        }
      ]
    },
    {
      "cell_type": "code",
      "source": [
        "cnn_model.summary()"
      ],
      "metadata": {
        "id": "_hlAgKCxIJ-W"
      },
      "execution_count": null,
      "outputs": []
    },
    {
      "cell_type": "code",
      "source": [
        "plt.plot(hist.history['accuracy'])\n",
        "plt.plot(hist.history['val_accuracy'])\n",
        "plt.plot(hist.history[\"loss\"])\n",
        "plt.plot(hist.history['val_loss'])\n",
        "plt.title(\"Xception Model Accuracy\")\n",
        "plt.ylabel(\"Accuracy\")\n",
        "plt.xlabel(\"Epoch\")\n",
        "plt.legend([\"Accuracy\",\"Validation Accuracy\",\"Loss\",\"Validation Loss\"])\n",
        "plt.show()\n",
        "plt.savefig('xception480x360_acc.png')"
      ],
      "metadata": {
        "id": "Anv7aI0dkMg_",
        "colab": {
          "base_uri": "https://localhost:8080/",
          "height": 313
        },
        "outputId": "e61c1f0c-5298-4913-f3bc-4725f4a45e47"
      },
      "execution_count": null,
      "outputs": [
        {
          "output_type": "display_data",
          "data": {
            "text/plain": [
              "<Figure size 432x288 with 1 Axes>"
            ],
            "image/png": "[encoded data removed]"
          },
          "metadata": {
            "needs_background": "light"
          }
        },
        {
          "output_type": "display_data",
          "data": {
            "text/plain": [
              "<Figure size 432x288 with 0 Axes>"
            ]
          },
          "metadata": {}
        }
      ]
    },
    {
      "cell_type": "code",
      "source": [
        "from keras.models import load_model\n",
        "saved_model = load_model(\"resnet50.h5\")\n",
        "test_x = []\n",
        "original_y = []\n",
        "parsed_dataset = read_dataset('/content/train0133_processed.tfrecord') # ACTION NEEDED: .tfrecord file_path needs to be specified\n",
        "labeled_data_sets = labeled_dataset(parsed_dataset)\n",
        "for data in labeled_data_sets[:800]:\n",
        "  if data[1] == 12:\n",
        "    val = 0\n",
        "  elif data[1] == 11:\n",
        "    val = 1\n",
        "  elif data[1] == 17:\n",
        "    val = 2\n",
        "  else:\n",
        "    val = 3\n",
        "  resized_image = cv2.resize(data[0], (224, 224)) / 255.0\n",
        "  test_x.append(resized_image)\n",
        "  original_y.append(val)\n",
        "test_y = np.array(original_y).T\n",
        "test_x = np.array(test_x)\n",
        "test_y = to_categorical(test_y)\n",
        "loss, acc = saved_model.evaluate(test_x, test_y)\n",
        "print(loss)\n",
        "print(acc)"
      ],
      "metadata": {
        "id": "6kYZsVNYkQZs"
      },
      "execution_count": null,
      "outputs": []
    },
    {
      "cell_type": "code",
      "source": [
        "predict_y = saved_model.predict(test_x)\n",
        "predict_y = np.argmax(predict_y, axis=1)\n",
        "original_y = np.array(original_y)"
      ],
      "metadata": {
        "id": "k7v2DojOkSny"
      },
      "execution_count": null,
      "outputs": []
    },
    {
      "cell_type": "code",
      "source": [
        "from sklearn.metrics import precision_score, recall_score, f1_score, confusion_matrix\n",
        "precision = precision_score(original_y, predict_y, average='macro')\n",
        "recall = recall_score(original_y, predict_y, average='macro')\n",
        "f1 = f1_score(original_y, predict_y, average='macro')\n",
        "cm = confusion_matrix(original_y, predict_y)\n",
        "print(f'Precision score is: {precision}')\n",
        "print(f'Recall score is: {recall}')\n",
        "print(f'F1 score is: {f1}')\n",
        "print(cm)"
      ],
      "metadata": {
        "id": "WM3XBE8pkUpA"
      },
      "execution_count": null,
      "outputs": []
    },
    {
      "cell_type": "code",
      "source": [
        "def plot_confusion_matrix(cm,\n",
        "                          target_names,\n",
        "                          title='Confusion matrix',\n",
        "                          cmap=None,\n",
        "                          normalize=True):\n",
        "    \"\"\"\n",
        "    given a sklearn confusion matrix (cm), make a nice plot\n",
        "\n",
        "    Arguments\n",
        "    ---------\n",
        "    cm:           confusion matrix from sklearn.metrics.confusion_matrix\n",
        "\n",
        "    target_names: given classification classes such as [0, 1, 2]\n",
        "                  the class names, for example: ['high', 'medium', 'low']\n",
        "\n",
        "    title:        the text to display at the top of the matrix\n",
        "\n",
        "    cmap:         the gradient of the values displayed from matplotlib.pyplot.cm\n",
        "                  see http://matplotlib.org/examples/color/colormaps_reference.html\n",
        "                  plt.get_cmap('jet') or plt.cm.Blues\n",
        "\n",
        "    normalize:    If False, plot the raw numbers\n",
        "                  If True, plot the proportions\n",
        "\n",
        "    Usage\n",
        "    -----\n",
        "    plot_confusion_matrix(cm           = cm,                  # confusion matrix created by\n",
        "                                                              # sklearn.metrics.confusion_matrix\n",
        "                          normalize    = True,                # show proportions\n",
        "                          target_names = y_labels_vals,       # list of names of the classes\n",
        "                          title        = best_estimator_name) # title of graph\n",
        "\n",
        "    Citiation\n",
        "    ---------\n",
        "    http://scikit-learn.org/stable/auto_examples/model_selection/plot_confusion_matrix.html\n",
        "\n",
        "    \"\"\"\n",
        "    import matplotlib.pyplot as plt\n",
        "    import numpy as np\n",
        "    import itertools\n",
        "\n",
        "    accuracy = np.trace(cm) / float(np.sum(cm))\n",
        "    misclass = 1 - accuracy\n",
        "\n",
        "    if cmap is None:\n",
        "        cmap = plt.get_cmap('Blues')\n",
        "\n",
        "    plt.figure(figsize=(8, 6))\n",
        "    plt.imshow(cm, interpolation='nearest', cmap=cmap)\n",
        "    plt.title(title)\n",
        "    plt.colorbar()\n",
        "\n",
        "    if target_names is not None:\n",
        "        tick_marks = np.arange(len(target_names))\n",
        "        plt.xticks(tick_marks, target_names, rotation=45)\n",
        "        plt.yticks(tick_marks, target_names)\n",
        "\n",
        "    if normalize:\n",
        "        cm = cm.astype('float') / cm.sum(axis=1)[:, np.newaxis]\n",
        "\n",
        "\n",
        "    thresh = cm.max() / 1.5 if normalize else cm.max() / 2\n",
        "    for i, j in itertools.product(range(cm.shape[0]), range(cm.shape[1])):\n",
        "        if normalize:\n",
        "            plt.text(j, i, \"{:0.4f}\".format(cm[i, j]),\n",
        "                     horizontalalignment=\"center\",\n",
        "                     color=\"white\" if cm[i, j] > thresh else \"black\")\n",
        "        else:\n",
        "            plt.text(j, i, \"{:,}\".format(cm[i, j]),\n",
        "                     horizontalalignment=\"center\",\n",
        "                     color=\"white\" if cm[i, j] > thresh else \"black\")\n",
        "\n",
        "\n",
        "    plt.tight_layout()\n",
        "    plt.ylabel('True label')\n",
        "    plt.xlabel('Predicted label\\naccuracy={:0.4f}; misclass={:0.4f}'.format(accuracy, misclass))\n",
        "    plt.show()"
      ],
      "metadata": {
        "id": "knrOFmWJktg7"
      },
      "execution_count": null,
      "outputs": []
    },
    {
      "cell_type": "code",
      "source": [
        "plot_confusion_matrix(cm, ['Arts', 'Games', 'Vehicles', 'Other'], title='ResNet50 Confusion Matrix')"
      ],
      "metadata": {
        "id": "2EezjwCOkwCd"
      },
      "execution_count": null,
      "outputs": []
    }
  ]
}