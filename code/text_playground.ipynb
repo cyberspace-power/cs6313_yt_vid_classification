{
 "cells": [
  {
   "cell_type": "code",
   "execution_count": 1,
   "metadata": {
    "colab": {
     "base_uri": "https://localhost:8080/"
    },
    "executionInfo": {
     "elapsed": 25796,
     "status": "ok",
     "timestamp": 1652182235310,
     "user": {
      "displayName": "Vidhi Katkoria",
      "userId": "06213573697104908734"
     },
     "user_tz": 240
    },
    "id": "dwTI3SKI4pEJ",
    "outputId": "c4fb9682-4b7e-4adf-d3dc-1bdac3264897"
   },
   "outputs": [
    {
     "name": "stdout",
     "output_type": "stream",
     "text": [
      "Mounted at /content/drive\n"
     ]
    }
   ],
   "source": [
    "# from google.colab import drive\n",
    "# drive.mount('/content/drive')"
   ]
  },
  {
   "cell_type": "code",
   "execution_count": 1,
   "metadata": {
    "executionInfo": {
     "elapsed": 8,
     "status": "ok",
     "timestamp": 1652182536913,
     "user": {
      "displayName": "Vidhi Katkoria",
      "userId": "06213573697104908734"
     },
     "user_tz": 240
    },
    "id": "jkKVxFHg4wfJ"
   },
   "outputs": [],
   "source": [
    "import tensorflow as tf\n",
    "from tensorflow.keras.layers import Input, Conv2D\n",
    "from tensorflow.keras.layers import MaxPool2D, Flatten, Dense, Dropout\n",
    "from tensorflow.keras.layers import concatenate\n",
    "from tensorflow.keras import Model\n",
    "from tensorflow.keras.optimizers import Adam, SGD, RMSprop\n",
    "from tensorflow.keras.utils import to_categorical\n",
    "from tensorflow.keras.callbacks import EarlyStopping, ModelCheckpoint\n",
    "from tensorflow.keras.models import Sequential\n",
    "import matplotlib.pyplot as plt\n",
    "import numpy as np\n",
    "import os\n",
    "import pandas as pd\n",
    "\n",
    "from tensorflow import keras\n",
    "from tensorflow.keras import layers\n",
    "\n",
    "from tensorflow.keras.preprocessing.text import Tokenizer\n",
    "from tensorflow.keras.preprocessing.sequence import pad_sequences\n",
    "from tensorflow.keras.utils import plot_model"
   ]
  },
  {
   "cell_type": "code",
   "execution_count": 15,
   "metadata": {
    "colab": {
     "base_uri": "https://localhost:8080/"
    },
    "executionInfo": {
     "elapsed": 524,
     "status": "ok",
     "timestamp": 1652182319236,
     "user": {
      "displayName": "Vidhi Katkoria",
      "userId": "06213573697104908734"
     },
     "user_tz": 240
    },
    "id": "V3_CBCq-42nT",
    "outputId": "841d00b9-f4f3-413f-ce3b-f6ed3ed1bd3d"
   },
   "outputs": [
    {
     "name": "stdout",
     "output_type": "stream",
     "text": [
      "(15188, 4)\n",
      "      Video Id                                              Title  \\\n",
      "0  lc2h6mBTNYk  Electric Bicycle, Antares Modified 2wd Electri...   \n",
      "1  mAPeCWUjUCs  CAR CRASH COMBO!  Player #24 Daryl Partington ...   \n",
      "2  qujsEnJ26SQ  Dallas High's Small Dance & Drill Team Final P...   \n",
      "3  KXaUP-lOXk8                    WALL STREET: MONEY NEVER SLEEPS   \n",
      "4  B3y_baAZ66g                      Swansea Crossbar Challenge #2   \n",
      "\n",
      "                                         Description  Category  \n",
      "0  Corbin of CorbinFiber and his Antares modified...         1  \n",
      "1  To submit your footage to Shredit Cards submit...        17  \n",
      "2  Dallas High School's routine from the 2012 OSA...        17  \n",
      "3                            IN CINEMAS 23 SEPTEMBER         1  \n",
      "4                      Swansea Crossbar Challenge #2        17  \n"
     ]
    }
   ],
   "source": [
    "# text_df = pd.read_csv('titles.csv')\n",
    "text_df = pd.read_csv('../dataset/category_wise_data/titles.csv')\n",
    "text_df = text_df.sample(frac=1).reset_index(drop=True)\n",
    "print(text_df.shape)\n",
    "print(text_df.head())"
   ]
  },
  {
   "cell_type": "code",
   "execution_count": 16,
   "metadata": {
    "colab": {
     "base_uri": "https://localhost:8080/"
    },
    "executionInfo": {
     "elapsed": 467,
     "status": "ok",
     "timestamp": 1652182325547,
     "user": {
      "displayName": "Vidhi Katkoria",
      "userId": "06213573697104908734"
     },
     "user_tz": 240
    },
    "id": "kGVpW-u2BaiZ",
    "outputId": "a0d3b119-3e1c-4977-bc19-602812644fd7"
   },
   "outputs": [
    {
     "name": "stdout",
     "output_type": "stream",
     "text": [
      "[ 1  2 10 17]\n",
      "[0 3 3 ... 2 1 3]\n"
     ]
    }
   ],
   "source": [
    "from sklearn import preprocessing\n",
    "le = preprocessing.LabelEncoder()\n",
    "le = le.fit(text_df['Category'])\n",
    "print(le.classes_)\n",
    "\n",
    "category = le.transform(text_df['Category'])\n",
    "text_df['Category'] = category\n",
    "print(category)"
   ]
  },
  {
   "cell_type": "code",
   "execution_count": 4,
   "metadata": {
    "colab": {
     "base_uri": "https://localhost:8080/"
    },
    "executionInfo": {
     "elapsed": 4,
     "status": "ok",
     "timestamp": 1652182329388,
     "user": {
      "displayName": "Vidhi Katkoria",
      "userId": "06213573697104908734"
     },
     "user_tz": 240
    },
    "id": "nEyUajqEClrd",
    "outputId": "561d70bf-8ae9-49db-80d9-d460f7f32802"
   },
   "outputs": [
    {
     "name": "stdout",
     "output_type": "stream",
     "text": [
      "                                       Combined_text  Category\n",
      "0  2012 Ram 6.7 Cummins 4\" Straight Pipe Exhaust ...         1\n",
      "1  Foo Fighters Arcade Fire Cover Foo's do a cove...         2\n",
      "2  Matthew Codek - Aguardiente   house-music-dj-t...         2\n",
      "3  Real Madrid's Top 10 Historical Goals Real Mad...         3\n",
      "4  Year 3000 by the Jonas Brothers in High Defini...         2\n"
     ]
    }
   ],
   "source": [
    "text_df['Combined_text'] = text_df['Title'] + ' ' + text_df['Description'].astype(str)\n",
    "#text_df = text_df[['Title', 'Category']]\n",
    "text_df = text_df[['Combined_text', 'Category']]\n",
    "print(text_df.head())"
   ]
  },
  {
   "cell_type": "code",
   "execution_count": 5,
   "metadata": {
    "colab": {
     "base_uri": "https://localhost:8080/"
    },
    "executionInfo": {
     "elapsed": 9,
     "status": "ok",
     "timestamp": 1652182348545,
     "user": {
      "displayName": "Vidhi Katkoria",
      "userId": "06213573697104908734"
     },
     "user_tz": 240
    },
    "id": "f96occ7A4-5Q",
    "outputId": "dd895ca0-8f4e-4302-dfd8-61b309230d28"
   },
   "outputs": [
    {
     "name": "stdout",
     "output_type": "stream",
     "text": [
      "(12150,)\n",
      "(12150,)\n",
      "(3038,)\n",
      "(3038,)\n"
     ]
    }
   ],
   "source": [
    "from sklearn.model_selection import train_test_split\n",
    "\n",
    "train, test = train_test_split(text_df, test_size=0.2, random_state=42)\n",
    "train, test = train_test_split(text_df, test_size=0.2)\n",
    "X_train = train['Combined_text']\n",
    "#X_train = train['Title']\n",
    "y_train = train['Category']\n",
    "\n",
    "#X_test = test['Title']\n",
    "X_test = test['Combined_text']\n",
    "y_test = test['Category']\n",
    "\n",
    "print(X_train.shape)\n",
    "print(y_train.shape)\n",
    "\n",
    "print(X_test.shape)\n",
    "print(y_test.shape)"
   ]
  },
  {
   "cell_type": "code",
   "execution_count": 6,
   "metadata": {
    "executionInfo": {
     "elapsed": 14,
     "status": "ok",
     "timestamp": 1652182354049,
     "user": {
      "displayName": "Vidhi Katkoria",
      "userId": "06213573697104908734"
     },
     "user_tz": 240
    },
    "id": "fW8aFr4stvKZ"
   },
   "outputs": [],
   "source": [
    "#tokenizer = Tokenizer(num_words=20000)\n",
    "tokenizer = Tokenizer(num_words=20000, filters='!\"#$%^()*+,-./:;<=>?[\\\\]^_`{|}~\\t\\n', lower=True)\n",
    "#tokenizer = Tokenizer(filters='!\"#$%^()*+,-./:;<=>?[\\\\]^_`{|}~\\t\\n', lower=True)\n",
    "#tokenizer.fit_on_texts(text_df['Title'])\n",
    "tokenizer.fit_on_texts(text_df['Combined_text'])\n",
    "X_train = tokenizer.texts_to_sequences(X_train)\n",
    "X_test = tokenizer.texts_to_sequences(X_test) "
   ]
  },
  {
   "cell_type": "code",
   "execution_count": 7,
   "metadata": {
    "executionInfo": {
     "elapsed": 6,
     "status": "ok",
     "timestamp": 1652182635334,
     "user": {
      "displayName": "Vidhi Katkoria",
      "userId": "06213573697104908734"
     },
     "user_tz": 240
    },
    "id": "0rkK-dAnwen-",
    "scrolled": false
   },
   "outputs": [
    {
     "name": "stdout",
     "output_type": "stream",
     "text": [
      "[12976   402   773   582   679   929  2172    87   207     6    53  2128\n",
      "    33     4   236    87  6632     1    32  3630     2  9712    27    49\n",
      "    11    57    40    69  1229   321    18   582  9713  1051    87    20\n",
      "  1538  2173     3  1076   321    18  3261   582   644    87    20  3261\n",
      "     3  1373     3   845  4255    20  4255    20     1  3261  1076 15905\n",
      "  2874 10985  2388   615     1 12976     1    32    27    49    69    84\n",
      "  5515    13     2   918     6     2    98     1   321  1373   149 12977\n",
      "   202  3500  7895  4255   149    20     1   306    50     1  7895  1368\n",
      "  4908  6176  2265  3927 12978   380  1374  2795  8745   358  3927     1\n",
      "    33  1799    20 12976     1   559    20  8745  5515    13     2   918\n",
      "     6     2    98     1   559    20   889  6633  9714    33    12   127\n",
      "   200    20 12976     0     0     0     0     0     0     0     0     0\n",
      "     0     0     0     0     0     0     0     0     0     0     0     0\n",
      "     0     0     0     0     0     0     0     0     0     0     0     0\n",
      "     0     0     0     0     0     0     0     0     0     0     0     0\n",
      "     0     0     0     0     0     0     0     0     0     0     0     0\n",
      "     0     0     0     0     0     0     0     0     0     0     0     0\n",
      "     0     0     0     0     0     0     0     0     0     0     0     0\n",
      "     0     0     0     0     0     0     0     0     0     0     0     0\n",
      "     0     0     0     0     0     0     0     0     0     0     0     0\n",
      "     0     0     0     0     0     0     0     0     0     0     0     0\n",
      "     0     0     0     0     0     0     0     0     0     0     0     0\n",
      "     0     0     0     0     0     0     0     0     0     0     0     0\n",
      "     0     0     0     0     0     0     0     0     0     0     0     0\n",
      "     0     0     0     0     0     0     0     0     0     0     0     0\n",
      "     0     0     0     0     0     0     0     0     0     0     0     0\n",
      "     0     0     0     0     0     0     0     0     0     0     0     0\n",
      "     0     0     0     0     0     0     0     0     0     0     0     0\n",
      "     0     0     0     0     0     0     0     0     0     0     0     0\n",
      "     0     0     0     0     0     0     0     0     0     0     0     0\n",
      "     0     0     0     0     0     0     0     0     0     0     0     0\n",
      "     0     0     0     0     0     0     0     0     0     0     0     0\n",
      "     0     0     0     0     0     0     0     0     0     0     0     0\n",
      "     0     0     0     0     0     0     0     0     0     0     0     0\n",
      "     0     0     0     0     0     0     0     0     0     0     0     0\n",
      "     0     0     0     0     0     0     0     0     0     0     0     0\n",
      "     0     0     0     0     0     0     0     0     0     0     0     0\n",
      "     0     0     0     0     0     0     0     0     0     0     0     0\n",
      "     0     0     0     0     0     0     0     0     0     0     0     0\n",
      "     0     0     0     0     0     0     0     0     0     0     0     0\n",
      "     0     0     0     0     0     0     0     0     0     0     0     0\n",
      "     0     0     0     0     0     0     0     0]\n"
     ]
    }
   ],
   "source": [
    "maxlen=500\n",
    "X_train=pad_sequences(X_train,padding='post', maxlen=maxlen)\n",
    "X_test=pad_sequences(X_test,padding='post', maxlen=maxlen)\n",
    "print(str(X_train[0]))"
   ]
  },
  {
   "cell_type": "code",
   "execution_count": 8,
   "metadata": {
    "executionInfo": {
     "elapsed": 3509,
     "status": "ok",
     "timestamp": 1652187669606,
     "user": {
      "displayName": "Vidhi Katkoria",
      "userId": "06213573697104908734"
     },
     "user_tz": 240
    },
    "id": "ZJktaaO65DJt",
    "scrolled": true
   },
   "outputs": [
    {
     "name": "stdout",
     "output_type": "stream",
     "text": [
      "(None, None, 128)\n"
     ]
    }
   ],
   "source": [
    "max_features = 20000  # Only consider the top 20k words\n",
    "# maxlen = 200  # Only consider the first 200 words of each video title\n",
    "\n",
    "# Input for variable-length sequences of integers\n",
    "inputs = keras.Input(shape=(None,), dtype=\"int32\")\n",
    "# Embed each integer in a 128-dimensional vector\n",
    "x = layers.Embedding(max_features, 128)(inputs)\n",
    "print(x.shape)\n",
    "# Add 2 bidirectional LSTMs\n",
    "x = layers.Bidirectional(layers.LSTM(64, return_sequences=True, dropout=0.1))(x)\n",
    "x = layers.Bidirectional(layers.LSTM(64))(x)\n",
    "x = layers.Flatten()(x)\n",
    "outputs = layers.Dense(4, activation=\"softmax\")(x)\n",
    "lstm_model = keras.Model(inputs, outputs)\n",
    "lstm_model.compile(optimizer=SGD\n",
    "    (learning_rate=0.05, momentum=0.9, nesterov=False),\n",
    "    loss='sparse_categorical_crossentropy',  # change to categorical with shape[0,0,...1,0,0..] with length as the total number of thumbnail categories\n",
    "    metrics=['accuracy'])"
   ]
  },
  {
   "cell_type": "code",
   "execution_count": null,
   "metadata": {
    "colab": {
     "base_uri": "https://localhost:8080/"
    },
    "executionInfo": {
     "elapsed": 486,
     "status": "ok",
     "timestamp": 1652182650600,
     "user": {
      "displayName": "Vidhi Katkoria",
      "userId": "06213573697104908734"
     },
     "user_tz": 240
    },
    "id": "otAY2g9cDHXc",
    "outputId": "54e1dbaa-7418-4bf4-a48e-3f23204197b8",
    "scrolled": true
   },
   "outputs": [],
   "source": [
    "X_train"
   ]
  },
  {
   "cell_type": "code",
   "execution_count": null,
   "metadata": {
    "colab": {
     "base_uri": "https://localhost:8080/"
    },
    "executionInfo": {
     "elapsed": 10,
     "status": "ok",
     "timestamp": 1652182661503,
     "user": {
      "displayName": "Vidhi Katkoria",
      "userId": "06213573697104908734"
     },
     "user_tz": 240
    },
    "id": "4uobpLAYDJ8N",
    "outputId": "4e4793b8-23d8-4c1a-a25c-0aefe835bad1",
    "scrolled": false
   },
   "outputs": [],
   "source": [
    "y_train"
   ]
  },
  {
   "cell_type": "code",
   "execution_count": 9,
   "metadata": {
    "colab": {
     "base_uri": "https://localhost:8080/",
     "height": 608
    },
    "executionInfo": {
     "elapsed": 119168,
     "status": "error",
     "timestamp": 1652188036124,
     "user": {
      "displayName": "Vidhi Katkoria",
      "userId": "06213573697104908734"
     },
     "user_tz": 240
    },
    "id": "SLC4-vyl5G1V",
    "outputId": "e8ab57fc-5ffb-426f-baf3-b11106b0ac10",
    "scrolled": false
   },
   "outputs": [
    {
     "name": "stdout",
     "output_type": "stream",
     "text": [
      "Epoch 1/10\n",
      "380/380 [==============================] - ETA: 0s - loss: 1.3884 - accuracy: 0.2697\n",
      "Epoch 00001: val_accuracy improved from -inf to 0.24358, saving model to lstm_model2.h5\n",
      "380/380 [==============================] - 511s 1s/step - loss: 1.3884 - accuracy: 0.2697 - val_loss: 1.3833 - val_accuracy: 0.2436\n",
      "Epoch 2/10\n",
      "380/380 [==============================] - ETA: 0s - loss: 1.2315 - accuracy: 0.3963\n",
      "Epoch 00002: val_accuracy improved from 0.24358 to 0.50395, saving model to lstm_model2.h5\n",
      "380/380 [==============================] - 488s 1s/step - loss: 1.2315 - accuracy: 0.3963 - val_loss: 1.0496 - val_accuracy: 0.5039\n",
      "Epoch 3/10\n",
      "380/380 [==============================] - ETA: 0s - loss: 0.9100 - accuracy: 0.6061\n",
      "Epoch 00003: val_accuracy improved from 0.50395 to 0.68104, saving model to lstm_model2.h5\n",
      "380/380 [==============================] - 406s 1s/step - loss: 0.9100 - accuracy: 0.6061 - val_loss: 0.8084 - val_accuracy: 0.6810\n",
      "Epoch 4/10\n",
      "380/380 [==============================] - ETA: 0s - loss: 0.6873 - accuracy: 0.7337\n",
      "Epoch 00004: val_accuracy improved from 0.68104 to 0.69816, saving model to lstm_model2.h5\n",
      "380/380 [==============================] - 406s 1s/step - loss: 0.6873 - accuracy: 0.7337 - val_loss: 0.7968 - val_accuracy: 0.6982\n",
      "Epoch 5/10\n",
      "380/380 [==============================] - ETA: 0s - loss: 0.5293 - accuracy: 0.8105\n",
      "Epoch 00005: val_accuracy improved from 0.69816 to 0.74292, saving model to lstm_model2.h5\n",
      "380/380 [==============================] - 444s 1s/step - loss: 0.5293 - accuracy: 0.8105 - val_loss: 0.7357 - val_accuracy: 0.7429\n",
      "Epoch 6/10\n",
      "380/380 [==============================] - ETA: 0s - loss: 0.4224 - accuracy: 0.8533\n",
      "Epoch 00006: val_accuracy improved from 0.74292 to 0.74720, saving model to lstm_model2.h5\n",
      "380/380 [==============================] - 398s 1s/step - loss: 0.4224 - accuracy: 0.8533 - val_loss: 0.7498 - val_accuracy: 0.7472\n",
      "Epoch 7/10\n",
      "380/380 [==============================] - ETA: 0s - loss: 0.3294 - accuracy: 0.8888\n",
      "Epoch 00007: val_accuracy did not improve from 0.74720\n",
      "380/380 [==============================] - 382s 1s/step - loss: 0.3294 - accuracy: 0.8888 - val_loss: 0.7974 - val_accuracy: 0.7367\n",
      "Epoch 8/10\n",
      "380/380 [==============================] - ETA: 0s - loss: 0.2594 - accuracy: 0.9151\n",
      "Epoch 00008: val_accuracy did not improve from 0.74720\n",
      "380/380 [==============================] - 383s 1s/step - loss: 0.2594 - accuracy: 0.9151 - val_loss: 0.8297 - val_accuracy: 0.7446\n",
      "Epoch 00008: early stopping\n"
     ]
    }
   ],
   "source": [
    "checkpoint = ModelCheckpoint(\"lstm_model2.h5\", monitor='val_accuracy', verbose=1, save_best_only=True, save_weights_only=False, mode='auto')\n",
    "early = EarlyStopping(monitor='val_accuracy', min_delta=0, patience=2, verbose=1, mode='auto')\n",
    "hist = lstm_model.fit(X_train, y_train, validation_data=(X_test, y_test), epochs=10, batch_size=32, callbacks=[checkpoint, early])"
   ]
  },
  {
   "cell_type": "code",
   "execution_count": 10,
   "metadata": {
    "colab": {
     "base_uri": "https://localhost:8080/",
     "height": 312
    },
    "executionInfo": {
     "elapsed": 639,
     "status": "ok",
     "timestamp": 1652185451224,
     "user": {
      "displayName": "Vidhi Katkoria",
      "userId": "06213573697104908734"
     },
     "user_tz": 240
    },
    "id": "Fvx--wTExP8B",
    "outputId": "7b817ec4-d93c-49b0-a1d4-acaef1c40c7d"
   },
   "outputs": [
    {
     "data": {
      "image/png": "[encoded data removed]",
      "text/plain": [
       "<Figure size 432x288 with 1 Axes>"
      ]
     },
     "metadata": {
      "needs_background": "light"
     },
     "output_type": "display_data"
    }
   ],
   "source": [
    "plt.plot(hist.history['accuracy'])\n",
    "plt.plot(hist.history['val_accuracy'])\n",
    "plt.plot(hist.history[\"loss\"])\n",
    "plt.plot(hist.history['val_loss'])\n",
    "plt.title(\"RNN (LSTM) Model Accuracy\")\n",
    "plt.ylabel(\"Accuracy\")\n",
    "plt.xlabel(\"Epoch\")\n",
    "plt.legend([\"Accuracy\",\"Validation Accuracy\",\"Loss\",\"Validation Loss\"])\n",
    "plt.show()\n",
    "#plt.savefig('rnn_lstm_acc.png')"
   ]
  },
  {
   "cell_type": "code",
   "execution_count": 15,
   "metadata": {},
   "outputs": [
    {
     "data": {
      "image/png": "[encoded data removed]",
      "text/plain": [
       "<IPython.core.display.Image object>"
      ]
     },
     "execution_count": 15,
     "metadata": {},
     "output_type": "execute_result"
    }
   ],
   "source": [
    "plot_model(lstm_model, rankdir='LR', show_shapes=True)"
   ]
  },
  {
   "cell_type": "code",
   "execution_count": 10,
   "metadata": {},
   "outputs": [
    {
     "ename": "OSError",
     "evalue": "SavedModel file does not exist at: /content/trial_xception_1e-4_480x360.h5/{saved_model.pbtxt|saved_model.pb}",
     "output_type": "error",
     "traceback": [
      "\u001b[1;31m---------------------------------------------------------------------------\u001b[0m",
      "\u001b[1;31mOSError\u001b[0m                                   Traceback (most recent call last)",
      "Input \u001b[1;32mIn [10]\u001b[0m, in \u001b[0;36m<cell line: 1>\u001b[1;34m()\u001b[0m\n\u001b[1;32m----> 1\u001b[0m xception_model \u001b[38;5;241m=\u001b[39m \u001b[43mkeras\u001b[49m\u001b[38;5;241;43m.\u001b[39;49m\u001b[43mmodels\u001b[49m\u001b[38;5;241;43m.\u001b[39;49m\u001b[43mload_model\u001b[49m\u001b[43m(\u001b[49m\u001b[38;5;124;43m'\u001b[39;49m\u001b[38;5;124;43m/content/trial_xception_1e-4_480x360.h5\u001b[39;49m\u001b[38;5;124;43m'\u001b[39;49m\u001b[43m)\u001b[49m\n",
      "File \u001b[1;32m~\\anaconda3\\lib\\site-packages\\tensorflow\\python\\keras\\saving\\save.py:186\u001b[0m, in \u001b[0;36mload_model\u001b[1;34m(filepath, custom_objects, compile, options)\u001b[0m\n\u001b[0;32m    184\u001b[0m   filepath \u001b[38;5;241m=\u001b[39m path_to_string(filepath)\n\u001b[0;32m    185\u001b[0m   \u001b[38;5;28;01mif\u001b[39;00m \u001b[38;5;28misinstance\u001b[39m(filepath, six\u001b[38;5;241m.\u001b[39mstring_types):\n\u001b[1;32m--> 186\u001b[0m     \u001b[43mloader_impl\u001b[49m\u001b[38;5;241;43m.\u001b[39;49m\u001b[43mparse_saved_model\u001b[49m\u001b[43m(\u001b[49m\u001b[43mfilepath\u001b[49m\u001b[43m)\u001b[49m\n\u001b[0;32m    187\u001b[0m     \u001b[38;5;28;01mreturn\u001b[39;00m saved_model_load\u001b[38;5;241m.\u001b[39mload(filepath, \u001b[38;5;28mcompile\u001b[39m, options)\n\u001b[0;32m    189\u001b[0m \u001b[38;5;28;01mraise\u001b[39;00m \u001b[38;5;167;01mIOError\u001b[39;00m(\n\u001b[0;32m    190\u001b[0m     \u001b[38;5;124m'\u001b[39m\u001b[38;5;124mUnable to load model. Filepath is not an hdf5 file (or h5py is not \u001b[39m\u001b[38;5;124m'\u001b[39m\n\u001b[0;32m    191\u001b[0m     \u001b[38;5;124m'\u001b[39m\u001b[38;5;124mavailable) or SavedModel.\u001b[39m\u001b[38;5;124m'\u001b[39m)\n",
      "File \u001b[1;32m~\\anaconda3\\lib\\site-packages\\tensorflow\\python\\saved_model\\loader_impl.py:110\u001b[0m, in \u001b[0;36mparse_saved_model\u001b[1;34m(export_dir)\u001b[0m\n\u001b[0;32m    108\u001b[0m     \u001b[38;5;28;01mraise\u001b[39;00m \u001b[38;5;167;01mIOError\u001b[39;00m(\u001b[38;5;124m\"\u001b[39m\u001b[38;5;124mCannot parse file \u001b[39m\u001b[38;5;132;01m%s\u001b[39;00m\u001b[38;5;124m: \u001b[39m\u001b[38;5;132;01m%s\u001b[39;00m\u001b[38;5;124m.\u001b[39m\u001b[38;5;124m\"\u001b[39m \u001b[38;5;241m%\u001b[39m (path_to_pbtxt, \u001b[38;5;28mstr\u001b[39m(e)))\n\u001b[0;32m    109\u001b[0m \u001b[38;5;28;01melse\u001b[39;00m:\n\u001b[1;32m--> 110\u001b[0m   \u001b[38;5;28;01mraise\u001b[39;00m \u001b[38;5;167;01mIOError\u001b[39;00m(\u001b[38;5;124m\"\u001b[39m\u001b[38;5;124mSavedModel file does not exist at: \u001b[39m\u001b[38;5;132;01m%s\u001b[39;00m\u001b[38;5;124m/\u001b[39m\u001b[38;5;124m{\u001b[39m\u001b[38;5;132;01m%s\u001b[39;00m\u001b[38;5;124m|\u001b[39m\u001b[38;5;132;01m%s\u001b[39;00m\u001b[38;5;124m}\u001b[39m\u001b[38;5;124m\"\u001b[39m \u001b[38;5;241m%\u001b[39m\n\u001b[0;32m    111\u001b[0m                 (export_dir,\n\u001b[0;32m    112\u001b[0m                  constants\u001b[38;5;241m.\u001b[39mSAVED_MODEL_FILENAME_PBTXT,\n\u001b[0;32m    113\u001b[0m                  constants\u001b[38;5;241m.\u001b[39mSAVED_MODEL_FILENAME_PB))\n",
      "\u001b[1;31mOSError\u001b[0m: SavedModel file does not exist at: /content/trial_xception_1e-4_480x360.h5/{saved_model.pbtxt|saved_model.pb}"
     ]
    }
   ],
   "source": [
    "xception_model = keras.models.load_model('/content/trial_xception_1e-4_480x360.h5')"
   ]
  },
  {
   "cell_type": "code",
   "execution_count": 11,
   "metadata": {},
   "outputs": [
    {
     "data": {
      "text/plain": [
       "0.7445687952600395"
      ]
     },
     "execution_count": 11,
     "metadata": {},
     "output_type": "execute_result"
    }
   ],
   "source": [
    "from sklearn.metrics import accuracy_score, confusion_matrix\n",
    "\n",
    "y_pred = lstm_model.predict(X_test)\n",
    "y_preds = np.argmax(y_pred, axis=1)\n",
    "accuracy_score(y_test, y_preds)\n",
    "\n",
    "print"
   ]
  },
  {
   "cell_type": "code",
   "execution_count": 12,
   "metadata": {},
   "outputs": [],
   "source": [
    "def plot_confusion_matrix(cm,\n",
    "                          target_names,\n",
    "                          title='Confusion matrix',\n",
    "                          cmap=None,\n",
    "                          normalize=True):\n",
    "    \"\"\"\n",
    "    given a sklearn confusion matrix (cm), make a nice plot\n",
    "\n",
    "    Arguments\n",
    "    ---------\n",
    "    cm:           confusion matrix from sklearn.metrics.confusion_matrix\n",
    "\n",
    "    target_names: given classification classes such as [0, 1, 2]\n",
    "                  the class names, for example: ['high', 'medium', 'low']\n",
    "\n",
    "    title:        the text to display at the top of the matrix\n",
    "\n",
    "    cmap:         the gradient of the values displayed from matplotlib.pyplot.cm\n",
    "                  see http://matplotlib.org/examples/color/colormaps_reference.html\n",
    "                  plt.get_cmap('jet') or plt.cm.Blues\n",
    "\n",
    "    normalize:    If False, plot the raw numbers\n",
    "                  If True, plot the proportions\n",
    "\n",
    "    Usage\n",
    "    -----\n",
    "    plot_confusion_matrix(cm           = cm,                  # confusion matrix created by\n",
    "                                                              # sklearn.metrics.confusion_matrix\n",
    "                          normalize    = True,                # show proportions\n",
    "                          target_names = y_labels_vals,       # list of names of the classes\n",
    "                          title        = best_estimator_name) # title of graph\n",
    "\n",
    "    Citiation\n",
    "    ---------\n",
    "    http://scikit-learn.org/stable/auto_examples/model_selection/plot_confusion_matrix.html\n",
    "\n",
    "    \"\"\"\n",
    "    import matplotlib.pyplot as plt\n",
    "    import numpy as np\n",
    "    import itertools\n",
    "\n",
    "    accuracy = np.trace(cm) / float(np.sum(cm))\n",
    "    misclass = 1 - accuracy\n",
    "\n",
    "    if cmap is None:\n",
    "        cmap = plt.get_cmap('Blues')\n",
    "\n",
    "    plt.figure(figsize=(8, 6))\n",
    "    plt.imshow(cm, interpolation='nearest', cmap=cmap)\n",
    "    plt.title(title)\n",
    "    plt.colorbar()\n",
    "\n",
    "    if target_names is not None:\n",
    "        tick_marks = np.arange(len(target_names))\n",
    "        plt.xticks(tick_marks, target_names, rotation=45)\n",
    "        plt.yticks(tick_marks, target_names)\n",
    "\n",
    "    if normalize:\n",
    "        cm = cm.astype('float') / cm.sum(axis=1)[:, np.newaxis]\n",
    "\n",
    "\n",
    "    thresh = cm.max() / 1.5 if normalize else cm.max() / 2\n",
    "    for i, j in itertools.product(range(cm.shape[0]), range(cm.shape[1])):\n",
    "        if normalize:\n",
    "            plt.text(j, i, \"{:0.4f}\".format(cm[i, j]),\n",
    "                     horizontalalignment=\"center\",\n",
    "                     color=\"white\" if cm[i, j] > thresh else \"black\")\n",
    "        else:\n",
    "            plt.text(j, i, \"{:,}\".format(cm[i, j]),\n",
    "                     horizontalalignment=\"center\",\n",
    "                     color=\"white\" if cm[i, j] > thresh else \"black\")\n",
    "\n",
    "\n",
    "    plt.tight_layout()\n",
    "    plt.ylabel('True label')\n",
    "    plt.xlabel('Predicted label\\naccuracy={:0.4f}; misclass={:0.4f}'.format(accuracy, misclass))\n",
    "    plt.show()"
   ]
  },
  {
   "cell_type": "code",
   "execution_count": 14,
   "metadata": {},
   "outputs": [
    {
     "data": {
      "image/png": "[encoded data removed]",
      "text/plain": [
       "<Figure size 576x432 with 2 Axes>"
      ]
     },
     "metadata": {
      "needs_background": "light"
     },
     "output_type": "display_data"
    }
   ],
   "source": [
    "cm = confusion_matrix(y_test, y_preds)\n",
    "plot_confusion_matrix(cm, ['1', '10', '17', '2'], title='Bi-Directional LSTM Confusion Matrix')"
   ]
  }
 ],
 "metadata": {
  "colab": {
   "name": "text_playground.ipynb",
   "provenance": []
  },
  "kernelspec": {
   "display_name": "Python 3 (ipykernel)",
   "language": "python",
   "name": "python3"
  },
  "language_info": {
   "codemirror_mode": {
    "name": "ipython",
    "version": 3
   },
   "file_extension": ".py",
   "mimetype": "text/x-python",
   "name": "python",
   "nbconvert_exporter": "python",
   "pygments_lexer": "ipython3",
   "version": "3.8.13"
  }
 },
 "nbformat": 4,
 "nbformat_minor": 1
}
