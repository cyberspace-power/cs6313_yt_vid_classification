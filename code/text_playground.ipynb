{
 "cells": [
  {
   "cell_type": "code",
   "execution_count": 1,
   "metadata": {
    "colab": {
     "base_uri": "https://localhost:8080/"
    },
    "executionInfo": {
     "elapsed": 25796,
     "status": "ok",
     "timestamp": 1652182235310,
     "user": {
      "displayName": "Vidhi Katkoria",
      "userId": "06213573697104908734"
     },
     "user_tz": 240
    },
    "id": "dwTI3SKI4pEJ",
    "outputId": "c4fb9682-4b7e-4adf-d3dc-1bdac3264897"
   },
   "outputs": [
    {
     "name": "stdout",
     "output_type": "stream",
     "text": [
      "Mounted at /content/drive\n"
     ]
    }
   ],
   "source": [
    "# from google.colab import drive\n",
    "# drive.mount('/content/drive')"
   ]
  },
  {
   "cell_type": "code",
   "execution_count": 1,
   "metadata": {
    "executionInfo": {
     "elapsed": 8,
     "status": "ok",
     "timestamp": 1652182536913,
     "user": {
      "displayName": "Vidhi Katkoria",
      "userId": "06213573697104908734"
     },
     "user_tz": 240
    },
    "id": "jkKVxFHg4wfJ"
   },
   "outputs": [],
   "source": [
    "import tensorflow as tf\n",
    "from tensorflow.keras.layers import Input, Conv2D\n",
    "from tensorflow.keras.layers import MaxPool2D, Flatten, Dense, Dropout\n",
    "from tensorflow.keras.layers import concatenate\n",
    "from tensorflow.keras import Model\n",
    "from tensorflow.keras.optimizers import Adam, SGD, RMSprop\n",
    "from tensorflow.keras.utils import to_categorical\n",
    "from tensorflow.keras.callbacks import EarlyStopping, ModelCheckpoint\n",
    "from tensorflow.keras.models import Sequential\n",
    "import matplotlib.pyplot as plt\n",
    "import numpy as np\n",
    "import os\n",
    "import pandas as pd\n",
    "\n",
    "from tensorflow import keras\n",
    "from tensorflow.keras import layers\n",
    "\n",
    "from tensorflow.keras.preprocessing.text import Tokenizer\n",
    "from tensorflow.keras.preprocessing.sequence import pad_sequences\n",
    "from tensorflow.keras.utils import plot_model"
   ]
  },
  {
   "cell_type": "code",
   "execution_count": 2,
   "metadata": {
    "colab": {
     "base_uri": "https://localhost:8080/"
    },
    "executionInfo": {
     "elapsed": 524,
     "status": "ok",
     "timestamp": 1652182319236,
     "user": {
      "displayName": "Vidhi Katkoria",
      "userId": "06213573697104908734"
     },
     "user_tz": 240
    },
    "id": "V3_CBCq-42nT",
    "outputId": "841d00b9-f4f3-413f-ce3b-f6ed3ed1bd3d"
   },
   "outputs": [
    {
     "name": "stdout",
     "output_type": "stream",
     "text": [
      "(15188, 4)\n",
      "      Video Id                                              Title  \\\n",
      "0  6PIirVuMUgk                     Dirt Biking @ McNutt March '11   \n",
      "1  rm2hbVo3f-Y  Fairchild Swearingen Metro II Takeoff - Great ...   \n",
      "2  Kha5LqFAxMI  Live @ Electric Zoo ARMIN VAN BUUREN closes fe...   \n",
      "3  5wgx7Z4g1X4              Spectacular Spider-Man vs The Shocker   \n",
      "4  HiOzv-IKh34                      PBSL U12 Kicks SC v Barcelona   \n",
      "\n",
      "                                         Description  Category  \n",
      "0  Quick rip at McNutt (near Maple Ridge BC) on a...        17  \n",
      "1  Update: Sadly, this aircraft has crashed perfo...         2  \n",
      "2  This are the last few minutes of ELECTRIC ZOO ...        10  \n",
      "3                             Spectacular Spider-Man         1  \n",
      "4  Jacob Montes hat trick plus Brayden Ivaniszyn ...        17  \n"
     ]
    }
   ],
   "source": [
    "# text_df = pd.read_csv('titles.csv')\n",
    "text_df = pd.read_csv('../dataset/category_wise_data/titles.csv')\n",
    "text_df = text_df.sample(frac=1).reset_index(drop=True)\n",
    "print(text_df.shape)\n",
    "print(text_df.head())"
   ]
  },
  {
   "cell_type": "code",
   "execution_count": 3,
   "metadata": {
    "colab": {
     "base_uri": "https://localhost:8080/"
    },
    "executionInfo": {
     "elapsed": 467,
     "status": "ok",
     "timestamp": 1652182325547,
     "user": {
      "displayName": "Vidhi Katkoria",
      "userId": "06213573697104908734"
     },
     "user_tz": 240
    },
    "id": "kGVpW-u2BaiZ",
    "outputId": "a0d3b119-3e1c-4977-bc19-602812644fd7"
   },
   "outputs": [
    {
     "name": "stdout",
     "output_type": "stream",
     "text": [
      "[ 1  2 10 17]\n",
      "[3 1 2 ... 3 1 2]\n"
     ]
    }
   ],
   "source": [
    "from sklearn import preprocessing\n",
    "le = preprocessing.LabelEncoder()\n",
    "le = le.fit(text_df['Category'])\n",
    "print(le.classes_)\n",
    "\n",
    "category = le.transform(text_df['Category'])\n",
    "text_df['Category'] = category\n",
    "print(category)"
   ]
  },
  {
   "cell_type": "code",
   "execution_count": 4,
   "metadata": {
    "colab": {
     "base_uri": "https://localhost:8080/"
    },
    "executionInfo": {
     "elapsed": 4,
     "status": "ok",
     "timestamp": 1652182329388,
     "user": {
      "displayName": "Vidhi Katkoria",
      "userId": "06213573697104908734"
     },
     "user_tz": 240
    },
    "id": "nEyUajqEClrd",
    "outputId": "561d70bf-8ae9-49db-80d9-d460f7f32802"
   },
   "outputs": [
    {
     "name": "stdout",
     "output_type": "stream",
     "text": [
      "                                       Combined_text  Category\n",
      "0  Dirt Biking @ McNutt March '11 Quick rip at Mc...         3\n",
      "1  Fairchild Swearingen Metro II Takeoff - Great ...         1\n",
      "2  Live @ Electric Zoo ARMIN VAN BUUREN closes fe...         2\n",
      "3  Spectacular Spider-Man vs The Shocker Spectacu...         0\n",
      "4  PBSL U12 Kicks SC v Barcelona Jacob Montes hat...         3\n"
     ]
    }
   ],
   "source": [
    "text_df['Combined_text'] = text_df['Title'] + ' ' + text_df['Description'].astype(str)\n",
    "#text_df = text_df[['Title', 'Category']]\n",
    "text_df = text_df[['Combined_text', 'Category']]\n",
    "print(text_df.head())"
   ]
  },
  {
   "cell_type": "code",
   "execution_count": 5,
   "metadata": {
    "colab": {
     "base_uri": "https://localhost:8080/"
    },
    "executionInfo": {
     "elapsed": 9,
     "status": "ok",
     "timestamp": 1652182348545,
     "user": {
      "displayName": "Vidhi Katkoria",
      "userId": "06213573697104908734"
     },
     "user_tz": 240
    },
    "id": "f96occ7A4-5Q",
    "outputId": "dd895ca0-8f4e-4302-dfd8-61b309230d28"
   },
   "outputs": [
    {
     "name": "stdout",
     "output_type": "stream",
     "text": [
      "(12150,)\n",
      "(12150,)\n",
      "(3038,)\n",
      "(3038,)\n"
     ]
    }
   ],
   "source": [
    "from sklearn.model_selection import train_test_split\n",
    "\n",
    "train, test = train_test_split(text_df, test_size=0.2, random_state=42)\n",
    "train, test = train_test_split(text_df, test_size=0.2)\n",
    "X_train = train['Combined_text']\n",
    "#X_train = train['Title']\n",
    "y_train = train['Category']\n",
    "\n",
    "#X_test = test['Title']\n",
    "X_test = test['Combined_text']\n",
    "y_test = test['Category']\n",
    "\n",
    "print(X_train.shape)\n",
    "print(y_train.shape)\n",
    "\n",
    "print(X_test.shape)\n",
    "print(y_test.shape)"
   ]
  },
  {
   "cell_type": "code",
   "execution_count": 6,
   "metadata": {
    "executionInfo": {
     "elapsed": 14,
     "status": "ok",
     "timestamp": 1652182354049,
     "user": {
      "displayName": "Vidhi Katkoria",
      "userId": "06213573697104908734"
     },
     "user_tz": 240
    },
    "id": "fW8aFr4stvKZ"
   },
   "outputs": [],
   "source": [
    "#tokenizer = Tokenizer(num_words=20000)\n",
    "tokenizer = Tokenizer(num_words=20000, filters='!\"#$%^()*+,-./:;<=>?[\\\\]^_`{|}~\\t\\n', lower=True)\n",
    "#tokenizer = Tokenizer(filters='!\"#$%^()*+,-./:;<=>?[\\\\]^_`{|}~\\t\\n', lower=True)\n",
    "#tokenizer.fit_on_texts(text_df['Title'])\n",
    "tokenizer.fit_on_texts(text_df['Combined_text'])\n",
    "X_train = tokenizer.texts_to_sequences(X_train)\n",
    "X_test = tokenizer.texts_to_sequences(X_test) "
   ]
  },
  {
   "cell_type": "code",
   "execution_count": 7,
   "metadata": {
    "executionInfo": {
     "elapsed": 6,
     "status": "ok",
     "timestamp": 1652182635334,
     "user": {
      "displayName": "Vidhi Katkoria",
      "userId": "06213573697104908734"
     },
     "user_tz": 240
    },
    "id": "0rkK-dAnwen-",
    "scrolled": false
   },
   "outputs": [
    {
     "name": "stdout",
     "output_type": "stream",
     "text": [
      "[16081   329    22    14    13     4  1266    22    11  3253     2   762\n",
      "  5617     0     0     0     0     0     0     0     0     0     0     0\n",
      "     0     0     0     0     0     0     0     0     0     0     0     0\n",
      "     0     0     0     0     0     0     0     0     0     0     0     0\n",
      "     0     0     0     0     0     0     0     0     0     0     0     0\n",
      "     0     0     0     0     0     0     0     0     0     0     0     0\n",
      "     0     0     0     0     0     0     0     0     0     0     0     0\n",
      "     0     0     0     0     0     0     0     0     0     0     0     0\n",
      "     0     0     0     0     0     0     0     0     0     0     0     0\n",
      "     0     0     0     0     0     0     0     0     0     0     0     0\n",
      "     0     0     0     0     0     0     0     0     0     0     0     0\n",
      "     0     0     0     0     0     0     0     0     0     0     0     0\n",
      "     0     0     0     0     0     0     0     0     0     0     0     0\n",
      "     0     0     0     0     0     0     0     0     0     0     0     0\n",
      "     0     0     0     0     0     0     0     0     0     0     0     0\n",
      "     0     0     0     0     0     0     0     0     0     0     0     0\n",
      "     0     0     0     0     0     0     0     0     0     0     0     0\n",
      "     0     0     0     0     0     0     0     0     0     0     0     0\n",
      "     0     0     0     0     0     0     0     0     0     0     0     0\n",
      "     0     0     0     0     0     0     0     0     0     0     0     0\n",
      "     0     0     0     0     0     0     0     0     0     0     0     0\n",
      "     0     0     0     0     0     0     0     0     0     0     0     0\n",
      "     0     0     0     0     0     0     0     0     0     0     0     0\n",
      "     0     0     0     0     0     0     0     0     0     0     0     0\n",
      "     0     0     0     0     0     0     0     0     0     0     0     0\n",
      "     0     0     0     0     0     0     0     0     0     0     0     0\n",
      "     0     0     0     0     0     0     0     0     0     0     0     0\n",
      "     0     0     0     0     0     0     0     0     0     0     0     0\n",
      "     0     0     0     0     0     0     0     0     0     0     0     0\n",
      "     0     0     0     0     0     0     0     0     0     0     0     0\n",
      "     0     0     0     0     0     0     0     0     0     0     0     0\n",
      "     0     0     0     0     0     0     0     0     0     0     0     0\n",
      "     0     0     0     0     0     0     0     0     0     0     0     0\n",
      "     0     0     0     0     0     0     0     0     0     0     0     0\n",
      "     0     0     0     0     0     0     0     0     0     0     0     0\n",
      "     0     0     0     0     0     0     0     0     0     0     0     0\n",
      "     0     0     0     0     0     0     0     0     0     0     0     0\n",
      "     0     0     0     0     0     0     0     0     0     0     0     0\n",
      "     0     0     0     0     0     0     0     0     0     0     0     0\n",
      "     0     0     0     0     0     0     0     0     0     0     0     0\n",
      "     0     0     0     0     0     0     0     0     0     0     0     0\n",
      "     0     0     0     0     0     0     0     0]\n"
     ]
    }
   ],
   "source": [
    "maxlen=500\n",
    "X_train=pad_sequences(X_train,padding='post', maxlen=maxlen)\n",
    "X_test=pad_sequences(X_test,padding='post', maxlen=maxlen)\n",
    "print(str(X_train[0]))"
   ]
  },
  {
   "cell_type": "code",
   "execution_count": 8,
   "metadata": {
    "executionInfo": {
     "elapsed": 3509,
     "status": "ok",
     "timestamp": 1652187669606,
     "user": {
      "displayName": "Vidhi Katkoria",
      "userId": "06213573697104908734"
     },
     "user_tz": 240
    },
    "id": "ZJktaaO65DJt",
    "scrolled": true
   },
   "outputs": [
    {
     "name": "stdout",
     "output_type": "stream",
     "text": [
      "(None, None, 128)\n"
     ]
    }
   ],
   "source": [
    "max_features = 20000  # Only consider the top 20k words\n",
    "# maxlen = 200  # Only consider the first 200 words of each video title\n",
    "\n",
    "# Input for variable-length sequences of integers\n",
    "inputs = keras.Input(shape=(None,), dtype=\"int32\")\n",
    "# Embed each integer in a 128-dimensional vector\n",
    "x = layers.Embedding(max_features, 128)(inputs)\n",
    "print(x.shape)\n",
    "# Add 2 bidirectional LSTMs\n",
    "x = layers.Bidirectional(layers.LSTM(64, return_sequences=True, dropout=0.1))(x)\n",
    "x = layers.Bidirectional(layers.LSTM(64))(x)\n",
    "x = layers.Flatten()(x)\n",
    "outputs = layers.Dense(4, activation=\"softmax\")(x)\n",
    "lstm_model = keras.Model(inputs, outputs)\n",
    "lstm_model.compile(optimizer=SGD\n",
    "    (learning_rate=0.025, momentum=0.9, nesterov=False),\n",
    "    loss='sparse_categorical_crossentropy',  # change to categorical with shape[0,0,...1,0,0..] with length as the total number of thumbnail categories\n",
    "    metrics=['accuracy'])"
   ]
  },
  {
   "cell_type": "code",
   "execution_count": null,
   "metadata": {
    "colab": {
     "base_uri": "https://localhost:8080/"
    },
    "executionInfo": {
     "elapsed": 486,
     "status": "ok",
     "timestamp": 1652182650600,
     "user": {
      "displayName": "Vidhi Katkoria",
      "userId": "06213573697104908734"
     },
     "user_tz": 240
    },
    "id": "otAY2g9cDHXc",
    "outputId": "54e1dbaa-7418-4bf4-a48e-3f23204197b8",
    "scrolled": true
   },
   "outputs": [],
   "source": [
    "X_train"
   ]
  },
  {
   "cell_type": "code",
   "execution_count": null,
   "metadata": {
    "colab": {
     "base_uri": "https://localhost:8080/"
    },
    "executionInfo": {
     "elapsed": 10,
     "status": "ok",
     "timestamp": 1652182661503,
     "user": {
      "displayName": "Vidhi Katkoria",
      "userId": "06213573697104908734"
     },
     "user_tz": 240
    },
    "id": "4uobpLAYDJ8N",
    "outputId": "4e4793b8-23d8-4c1a-a25c-0aefe835bad1",
    "scrolled": false
   },
   "outputs": [],
   "source": [
    "y_train"
   ]
  },
  {
   "cell_type": "code",
   "execution_count": 9,
   "metadata": {
    "colab": {
     "base_uri": "https://localhost:8080/",
     "height": 608
    },
    "executionInfo": {
     "elapsed": 119168,
     "status": "error",
     "timestamp": 1652188036124,
     "user": {
      "displayName": "Vidhi Katkoria",
      "userId": "06213573697104908734"
     },
     "user_tz": 240
    },
    "id": "SLC4-vyl5G1V",
    "outputId": "e8ab57fc-5ffb-426f-baf3-b11106b0ac10",
    "scrolled": true
   },
   "outputs": [
    {
     "name": "stdout",
     "output_type": "stream",
     "text": [
      "Epoch 1/10\n",
      "380/380 [==============================] - ETA: 0s - loss: 1.3876 - accuracy: 0.2641\n",
      "Epoch 00001: val_accuracy improved from -inf to 0.32620, saving model to lstm_model.h5\n",
      "380/380 [==============================] - 391s 1s/step - loss: 1.3876 - accuracy: 0.2641 - val_loss: 1.3827 - val_accuracy: 0.3262\n",
      "Epoch 2/10\n",
      "380/380 [==============================] - ETA: 0s - loss: 1.3170 - accuracy: 0.3419\n",
      "Epoch 00002: val_accuracy improved from 0.32620 to 0.40323, saving model to lstm_model.h5\n",
      "380/380 [==============================] - 394s 1s/step - loss: 1.3170 - accuracy: 0.3419 - val_loss: 1.2189 - val_accuracy: 0.4032\n",
      "Epoch 3/10\n",
      "380/380 [==============================] - ETA: 0s - loss: 1.0806 - accuracy: 0.4862\n",
      "Epoch 00003: val_accuracy improved from 0.40323 to 0.56978, saving model to lstm_model.h5\n",
      "380/380 [==============================] - 385s 1s/step - loss: 1.0806 - accuracy: 0.4862 - val_loss: 0.9305 - val_accuracy: 0.5698\n",
      "Epoch 4/10\n",
      "380/380 [==============================] - ETA: 0s - loss: 0.8458 - accuracy: 0.6266\n",
      "Epoch 00004: val_accuracy improved from 0.56978 to 0.59381, saving model to lstm_model.h5\n",
      "380/380 [==============================] - 349s 919ms/step - loss: 0.8458 - accuracy: 0.6266 - val_loss: 0.9515 - val_accuracy: 0.5938\n",
      "Epoch 5/10\n",
      "380/380 [==============================] - ETA: 0s - loss: 0.6944 - accuracy: 0.7197\n",
      "Epoch 00005: val_accuracy improved from 0.59381 to 0.70737, saving model to lstm_model.h5\n",
      "380/380 [==============================] - 364s 959ms/step - loss: 0.6944 - accuracy: 0.7197 - val_loss: 0.7771 - val_accuracy: 0.7074\n",
      "Epoch 6/10\n",
      "380/380 [==============================] - ETA: 0s - loss: 0.5580 - accuracy: 0.7891\n",
      "Epoch 00006: val_accuracy improved from 0.70737 to 0.70770, saving model to lstm_model.h5\n",
      "380/380 [==============================] - 375s 988ms/step - loss: 0.5580 - accuracy: 0.7891 - val_loss: 0.7708 - val_accuracy: 0.7077\n",
      "Epoch 7/10\n",
      "380/380 [==============================] - ETA: 0s - loss: 0.4672 - accuracy: 0.8309\n",
      "Epoch 00007: val_accuracy improved from 0.70770 to 0.72646, saving model to lstm_model.h5\n",
      "380/380 [==============================] - 371s 976ms/step - loss: 0.4672 - accuracy: 0.8309 - val_loss: 0.7690 - val_accuracy: 0.7265\n",
      "Epoch 8/10\n",
      "380/380 [==============================] - ETA: 0s - loss: 0.3866 - accuracy: 0.8630\n",
      "Epoch 00008: val_accuracy improved from 0.72646 to 0.73667, saving model to lstm_model.h5\n",
      "380/380 [==============================] - 373s 981ms/step - loss: 0.3866 - accuracy: 0.8630 - val_loss: 0.8014 - val_accuracy: 0.7367\n",
      "Epoch 9/10\n",
      "380/380 [==============================] - ETA: 0s - loss: 0.3164 - accuracy: 0.8924\n",
      "Epoch 00009: val_accuracy did not improve from 0.73667\n",
      "380/380 [==============================] - 376s 991ms/step - loss: 0.3164 - accuracy: 0.8924 - val_loss: 0.8230 - val_accuracy: 0.7354\n",
      "Epoch 00009: early stopping\n"
     ]
    }
   ],
   "source": [
    "checkpoint = ModelCheckpoint(\"lstm_model.h5\", monitor='val_accuracy', verbose=1, save_best_only=True, save_weights_only=False, mode='auto')\n",
    "early = EarlyStopping(monitor='val_accuracy', min_delta=0, patience=1, verbose=1, mode='auto')\n",
    "hist = lstm_model.fit(X_train, y_train, validation_data=(X_test, y_test), epochs=10, batch_size=32, callbacks=[checkpoint, early])"
   ]
  },
  {
   "cell_type": "code",
   "execution_count": 10,
   "metadata": {
    "colab": {
     "base_uri": "https://localhost:8080/",
     "height": 312
    },
    "executionInfo": {
     "elapsed": 639,
     "status": "ok",
     "timestamp": 1652185451224,
     "user": {
      "displayName": "Vidhi Katkoria",
      "userId": "06213573697104908734"
     },
     "user_tz": 240
    },
    "id": "Fvx--wTExP8B",
    "outputId": "7b817ec4-d93c-49b0-a1d4-acaef1c40c7d"
   },
   "outputs": [
    {
     "data": {
      "image/png": "[encoded data removed]",
      "text/plain": [
       "<Figure size 432x288 with 1 Axes>"
      ]
     },
     "metadata": {
      "needs_background": "light"
     },
     "output_type": "display_data"
    }
   ],
   "source": [
    "plt.plot(hist.history['accuracy'])\n",
    "plt.plot(hist.history['val_accuracy'])\n",
    "plt.plot(hist.history[\"loss\"])\n",
    "plt.plot(hist.history['val_loss'])\n",
    "plt.title(\"RNN (LSTM) Model Accuracy\")\n",
    "plt.ylabel(\"Accuracy\")\n",
    "plt.xlabel(\"Epoch\")\n",
    "plt.legend([\"Accuracy\",\"Validation Accuracy\",\"Loss\",\"Validation Loss\"])\n",
    "plt.show()\n",
    "#plt.savefig('rnn_lstm_acc.png')"
   ]
  },
  {
   "cell_type": "code",
   "execution_count": 15,
   "metadata": {},
   "outputs": [
    {
     "data": {
      "image/png": "[encoded data removed]",
      "text/plain": [
       "<IPython.core.display.Image object>"
      ]
     },
     "execution_count": 15,
     "metadata": {},
     "output_type": "execute_result"
    }
   ],
   "source": [
    "plot_model(lstm_model, rankdir='LR', show_shapes=True)"
   ]
  }
 ],
 "metadata": {
  "colab": {
   "name": "text_playground.ipynb",
   "provenance": []
  },
  "kernelspec": {
   "display_name": "Python 3 (ipykernel)",
   "language": "python",
   "name": "python3"
  },
  "language_info": {
   "codemirror_mode": {
    "name": "ipython",
    "version": 3
   },
   "file_extension": ".py",
   "mimetype": "text/x-python",
   "name": "python",
   "nbconvert_exporter": "python",
   "pygments_lexer": "ipython3",
   "version": "3.8.13"
  }
 },
 "nbformat": 4,
 "nbformat_minor": 1
}
