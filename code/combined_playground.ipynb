{
  "nbformat": 4,
  "nbformat_minor": 0,
  "metadata": {
    "colab": {
      "name": "combined_playground.ipynb",
      "provenance": []
    },
    "kernelspec": {
      "name": "python3",
      "display_name": "Python 3"
    },
    "language_info": {
      "name": "python"
    }
  },
  "cells": [
    {
      "cell_type": "code",
      "execution_count": null,
      "metadata": {
        "id": "k8Wd0Ljx6Qc6"
      },
      "outputs": [],
      "source": [
        "import tensorflow as tf\n",
        "from tensorflow.keras.layers import Input, Conv2D\n",
        "from tensorflow.keras.layers import MaxPool2D, Flatten, Dense, Dropout\n",
        "from tensorflow.keras.layers import concatenate\n",
        "from tensorflow.keras import Model\n",
        "from tensorflow.keras.optimizers import Adam, SGD, RMSprop\n",
        "from tensorflow.keras.utils import to_categorical\n",
        "from tensorflow.keras.callbacks import EarlyStopping, ModelCheckpoint\n",
        "from keras.models import Sequential\n",
        "import cv2\n",
        "import matplotlib.pyplot as plt\n",
        "import numpy as np\n",
        "import os\n",
        "import pandas as pd\n",
        "\n",
        "from tensorflow import keras\n",
        "from tensorflow.keras import layers\n",
        "\n",
        "from keras.preprocessing.text import Tokenizer\n",
        "from keras.preprocessing.sequence import pad_sequences"
      ]
    },
    {
      "cell_type": "code",
      "source": [
        "!git clone https://github.com/cyberspace-power/cs6313_yt_vid_classification.git"
      ],
      "metadata": {
        "colab": {
          "base_uri": "https://localhost:8080/"
        },
        "id": "mGiumDec6ehI",
        "outputId": "edfb0da5-a404-426e-fa68-e436fada3533"
      },
      "execution_count": null,
      "outputs": [
        {
          "output_type": "stream",
          "name": "stdout",
          "text": [
            "Cloning into 'cs6313_yt_vid_classification'...\n",
            "remote: Enumerating objects: 15489, done.\u001b[K\n",
            "remote: Counting objects: 100% (3821/3821), done.\u001b[K\n",
            "remote: Compressing objects: 100% (3819/3819), done.\u001b[K\n",
            "remote: Total 15489 (delta 4), reused 3814 (delta 1), pack-reused 11668\u001b[K\n",
            "Receiving objects: 100% (15489/15489), 1.19 GiB | 27.05 MiB/s, done.\n",
            "Resolving deltas: 100% (14/14), done.\n",
            "Checking out files: 100% (15446/15446), done.\n"
          ]
        }
      ]
    },
    {
      "cell_type": "code",
      "source": [
        "from tqdm import tqdm\n",
        "image_filepath = 'cs6313_yt_vid_classification/dataset/category_wise_thumbnails/'\n",
        "\n",
        "def read_image_data(categories = ['1', '2', '10', '17']):\n",
        "\n",
        "    # image_data = []\n",
        "    label_data = []\n",
        "    title_data = []\n",
        "\n",
        "    for x in categories:\n",
        "      for img in tqdm(os.listdir(image_filepath+'category_'+x), desc = \"loading\"):\n",
        "\n",
        "        image_path = os.path.join(image_filepath+'category_'+x+'/', img)\n",
        "        label_data.append(x)\n",
        "        title_data.append('category_'+x+'/'+img)\n",
        "    \n",
        "    df = pd.DataFrame({'Video Id':title_data, 'Category':label_data})\n",
        "    return df"
      ],
      "metadata": {
        "id": "13bTnbIH7Roe"
      },
      "execution_count": null,
      "outputs": []
    },
    {
      "cell_type": "code",
      "source": [
        "image_df = read_image_data()\n",
        "image_df"
      ],
      "metadata": {
        "colab": {
          "base_uri": "https://localhost:8080/",
          "height": 493
        },
        "id": "1Mv1Wc487UJS",
        "outputId": "2829212e-a22d-4573-a9ee-805eb46e85ba"
      },
      "execution_count": null,
      "outputs": [
        {
          "output_type": "stream",
          "name": "stderr",
          "text": [
            "loading: 100%|██████████| 3797/3797 [00:00<00:00, 364935.20it/s]\n",
            "loading: 100%|██████████| 3797/3797 [00:00<00:00, 262455.05it/s]\n",
            "loading: 100%|██████████| 3797/3797 [00:00<00:00, 279703.75it/s]\n",
            "loading: 100%|██████████| 3797/3797 [00:00<00:00, 363369.82it/s]\n"
          ]
        },
        {
          "output_type": "execute_result",
          "data": {
            "text/plain": [
              "                          Video Id Category\n",
              "0       category_1/lxkG245Y8-M.jpg        1\n",
              "1       category_1/lmqoGFXrINw.jpg        1\n",
              "2       category_1/63pEpQ3nR0Q.jpg        1\n",
              "3       category_1/QE6NLpi-pcU.jpg        1\n",
              "4       category_1/udsWV3ZTXZ4.jpg        1\n",
              "...                            ...      ...\n",
              "15183  category_17/7XH2OqODpCA.jpg       17\n",
              "15184  category_17/Fwql_8ZaHO0.jpg       17\n",
              "15185  category_17/QQAt8qy8Gpc.jpg       17\n",
              "15186  category_17/iVavCU148rU.jpg       17\n",
              "15187  category_17/WNqhOTajnFA.jpg       17\n",
              "\n",
              "[15188 rows x 2 columns]"
            ],
            "text/html": [
              "\n",
              "  <div id=\"df-8a852243-a3bc-48e1-86d0-c058001b141d\">\n",
              "    <div class=\"colab-df-container\">\n",
              "      <div>\n",
              "<style scoped>\n",
              "    .dataframe tbody tr th:only-of-type {\n",
              "        vertical-align: middle;\n",
              "    }\n",
              "\n",
              "    .dataframe tbody tr th {\n",
              "        vertical-align: top;\n",
              "    }\n",
              "\n",
              "    .dataframe thead th {\n",
              "        text-align: right;\n",
              "    }\n",
              "</style>\n",
              "<table border=\"1\" class=\"dataframe\">\n",
              "  <thead>\n",
              "    <tr style=\"text-align: right;\">\n",
              "      <th></th>\n",
              "      <th>Video Id</th>\n",
              "      <th>Category</th>\n",
              "    </tr>\n",
              "  </thead>\n",
              "  <tbody>\n",
              "    <tr>\n",
              "      <th>0</th>\n",
              "      <td>category_1/lxkG245Y8-M.jpg</td>\n",
              "      <td>1</td>\n",
              "    </tr>\n",
              "    <tr>\n",
              "      <th>1</th>\n",
              "      <td>category_1/lmqoGFXrINw.jpg</td>\n",
              "      <td>1</td>\n",
              "    </tr>\n",
              "    <tr>\n",
              "      <th>2</th>\n",
              "      <td>category_1/63pEpQ3nR0Q.jpg</td>\n",
              "      <td>1</td>\n",
              "    </tr>\n",
              "    <tr>\n",
              "      <th>3</th>\n",
              "      <td>category_1/QE6NLpi-pcU.jpg</td>\n",
              "      <td>1</td>\n",
              "    </tr>\n",
              "    <tr>\n",
              "      <th>4</th>\n",
              "      <td>category_1/udsWV3ZTXZ4.jpg</td>\n",
              "      <td>1</td>\n",
              "    </tr>\n",
              "    <tr>\n",
              "      <th>...</th>\n",
              "      <td>...</td>\n",
              "      <td>...</td>\n",
              "    </tr>\n",
              "    <tr>\n",
              "      <th>15183</th>\n",
              "      <td>category_17/7XH2OqODpCA.jpg</td>\n",
              "      <td>17</td>\n",
              "    </tr>\n",
              "    <tr>\n",
              "      <th>15184</th>\n",
              "      <td>category_17/Fwql_8ZaHO0.jpg</td>\n",
              "      <td>17</td>\n",
              "    </tr>\n",
              "    <tr>\n",
              "      <th>15185</th>\n",
              "      <td>category_17/QQAt8qy8Gpc.jpg</td>\n",
              "      <td>17</td>\n",
              "    </tr>\n",
              "    <tr>\n",
              "      <th>15186</th>\n",
              "      <td>category_17/iVavCU148rU.jpg</td>\n",
              "      <td>17</td>\n",
              "    </tr>\n",
              "    <tr>\n",
              "      <th>15187</th>\n",
              "      <td>category_17/WNqhOTajnFA.jpg</td>\n",
              "      <td>17</td>\n",
              "    </tr>\n",
              "  </tbody>\n",
              "</table>\n",
              "<p>15188 rows × 2 columns</p>\n",
              "</div>\n",
              "      <button class=\"colab-df-convert\" onclick=\"convertToInteractive('df-8a852243-a3bc-48e1-86d0-c058001b141d')\"\n",
              "              title=\"Convert this dataframe to an interactive table.\"\n",
              "              style=\"display:none;\">\n",
              "        \n",
              "  <svg xmlns=\"http://www.w3.org/2000/svg\" height=\"24px\"viewBox=\"0 0 24 24\"\n",
              "       width=\"24px\">\n",
              "    <path d=\"M0 0h24v24H0V0z\" fill=\"none\"/>\n",
              "    <path d=\"M18.56 5.44l.94 2.06.94-2.06 2.06-.94-2.06-.94-.94-2.06-.94 2.06-2.06.94zm-11 1L8.5 8.5l.94-2.06 2.06-.94-2.06-.94L8.5 2.5l-.94 2.06-2.06.94zm10 10l.94 2.06.94-2.06 2.06-.94-2.06-.94-.94-2.06-.94 2.06-2.06.94z\"/><path d=\"M17.41 7.96l-1.37-1.37c-.4-.4-.92-.59-1.43-.59-.52 0-1.04.2-1.43.59L10.3 9.45l-7.72 7.72c-.78.78-.78 2.05 0 2.83L4 21.41c.39.39.9.59 1.41.59.51 0 1.02-.2 1.41-.59l7.78-7.78 2.81-2.81c.8-.78.8-2.07 0-2.86zM5.41 20L4 18.59l7.72-7.72 1.47 1.35L5.41 20z\"/>\n",
              "  </svg>\n",
              "      </button>\n",
              "      \n",
              "  <style>\n",
              "    .colab-df-container {\n",
              "      display:flex;\n",
              "      flex-wrap:wrap;\n",
              "      gap: 12px;\n",
              "    }\n",
              "\n",
              "    .colab-df-convert {\n",
              "      background-color: #E8F0FE;\n",
              "      border: none;\n",
              "      border-radius: 50%;\n",
              "      cursor: pointer;\n",
              "      display: none;\n",
              "      fill: #1967D2;\n",
              "      height: 32px;\n",
              "      padding: 0 0 0 0;\n",
              "      width: 32px;\n",
              "    }\n",
              "\n",
              "    .colab-df-convert:hover {\n",
              "      background-color: #E2EBFA;\n",
              "      box-shadow: 0px 1px 2px rgba(60, 64, 67, 0.3), 0px 1px 3px 1px rgba(60, 64, 67, 0.15);\n",
              "      fill: #174EA6;\n",
              "    }\n",
              "\n",
              "    [theme=dark] .colab-df-convert {\n",
              "      background-color: #3B4455;\n",
              "      fill: #D2E3FC;\n",
              "    }\n",
              "\n",
              "    [theme=dark] .colab-df-convert:hover {\n",
              "      background-color: #434B5C;\n",
              "      box-shadow: 0px 1px 3px 1px rgba(0, 0, 0, 0.15);\n",
              "      filter: drop-shadow(0px 1px 2px rgba(0, 0, 0, 0.3));\n",
              "      fill: #FFFFFF;\n",
              "    }\n",
              "  </style>\n",
              "\n",
              "      <script>\n",
              "        const buttonEl =\n",
              "          document.querySelector('#df-8a852243-a3bc-48e1-86d0-c058001b141d button.colab-df-convert');\n",
              "        buttonEl.style.display =\n",
              "          google.colab.kernel.accessAllowed ? 'block' : 'none';\n",
              "\n",
              "        async function convertToInteractive(key) {\n",
              "          const element = document.querySelector('#df-8a852243-a3bc-48e1-86d0-c058001b141d');\n",
              "          const dataTable =\n",
              "            await google.colab.kernel.invokeFunction('convertToInteractive',\n",
              "                                                     [key], {});\n",
              "          if (!dataTable) return;\n",
              "\n",
              "          const docLinkHtml = 'Like what you see? Visit the ' +\n",
              "            '<a target=\"_blank\" href=https://colab.research.google.com/notebooks/data_table.ipynb>data table notebook</a>'\n",
              "            + ' to learn more about interactive tables.';\n",
              "          element.innerHTML = '';\n",
              "          dataTable['output_type'] = 'display_data';\n",
              "          await google.colab.output.renderOutput(dataTable, element);\n",
              "          const docLink = document.createElement('div');\n",
              "          docLink.innerHTML = docLinkHtml;\n",
              "          element.appendChild(docLink);\n",
              "        }\n",
              "      </script>\n",
              "    </div>\n",
              "  </div>\n",
              "  "
            ]
          },
          "metadata": {},
          "execution_count": 4
        }
      ]
    },
    {
      "cell_type": "code",
      "source": [
        "from tensorflow.keras.preprocessing.image import ImageDataGenerator\n",
        "\n",
        "img_gen = ImageDataGenerator(rescale=1/255, validation_split=0.2)\n",
        "\n",
        "img_iter = img_gen.flow_from_dataframe(\n",
        "    image_df,\n",
        "    shuffle=True,\n",
        "    directory='cs6313_yt_vid_classification/dataset/category_wise_thumbnails/',\n",
        "    x_col='Video Id',\n",
        "    y_col='Category',\n",
        "    class_mode='categorical',\n",
        "    target_size=(360, 240),\n",
        "    batch_size=20,\n",
        "    subset='training'\n",
        ")\n",
        "\n",
        "img_iter_val = img_gen.flow_from_dataframe(\n",
        "    image_df,\n",
        "    shuffle=True,\n",
        "    directory='cs6313_yt_vid_classification/dataset/category_wise_thumbnails/',\n",
        "    x_col='Video Id',\n",
        "    y_col='Category',\n",
        "    class_mode='categorical',\n",
        "    target_size=(360, 240),\n",
        "    batch_size=200,\n",
        "    subset='validation'\n",
        ")"
      ],
      "metadata": {
        "colab": {
          "base_uri": "https://localhost:8080/"
        },
        "id": "CZ822VfC7X0x",
        "outputId": "3969475a-8709-441e-b405-bae062fbf991"
      },
      "execution_count": null,
      "outputs": [
        {
          "output_type": "stream",
          "name": "stdout",
          "text": [
            "Found 12151 validated image filenames belonging to 4 classes.\n",
            "Found 3037 validated image filenames belonging to 4 classes.\n"
          ]
        }
      ]
    },
    {
      "cell_type": "code",
      "source": [
        "from tqdm import tqdm\n",
        "text_filepath = 'cs6313_yt_vid_classification/dataset/category_wise_data/'\n",
        "\n",
        "def read_text_data(categories = ['1', '2', '10', '17']):\n",
        "  dfs = []\n",
        "  for x in categories:\n",
        "    df = pd.read_csv(text_filepath+'category_'+x+'.csv')\n",
        "    df['Category'] = x\n",
        "    dfs.append(df)\n",
        "  text_df = pd.concat(dfs)\n",
        "  return text_df"
      ],
      "metadata": {
        "id": "v6jI30OG6hKE"
      },
      "execution_count": null,
      "outputs": []
    },
    {
      "cell_type": "code",
      "source": [
        "text_df = read_text_data()\n",
        "text_df"
      ],
      "metadata": {
        "colab": {
          "base_uri": "https://localhost:8080/",
          "height": 424
        },
        "id": "28oIItB66jcA",
        "outputId": "b9688010-04e8-421f-f040-10a573311607"
      },
      "execution_count": null,
      "outputs": [
        {
          "output_type": "execute_result",
          "data": {
            "text/plain": [
              "         Video Id                                              Title  \\\n",
              "0     oV-bTfF09jo                                        Super Girls   \n",
              "1     cdDkpbVwLPw                                  The Art of Flying   \n",
              "2     Udvj7HDeRcY                   Kid vs. Kat Short - Run Coop Run   \n",
              "3     inaFXNedo1g                        Kwaku & Gloria; A Fairytale   \n",
              "4     MZL2CSyLZ1c                 Keep Holding On - Kagome and Sango   \n",
              "...           ...                                                ...   \n",
              "3792  zyuvfwaIY8w  'Lonnie B' on sparring in front of Floyd, Hopk...   \n",
              "3793  zyUxzZZUL6o                           Blake Paulson Fresno, CA   \n",
              "3794  ZzCDBLoRsAU                                           Ice pike   \n",
              "3795  zzIPWNlexv4  James Harden Earns Second Triple-Double of Season   \n",
              "3796  ZzyxVM83pQ8         Stage6 Downhill Racing @ Col d`Izoard 2009   \n",
              "\n",
              "                                            Description Category  \n",
              "0     My first amv on my new computer with a better ...        1  \n",
              "1     Had to change the original soundtrack, because...        1  \n",
              "2                                                              1  \n",
              "3     Special thanks to every member of team Oneshot...        1  \n",
              "4     My ... 13th video 0.0 (bad number)\\n\\nMy frien...        1  \n",
              "...                                                 ...      ...  \n",
              "3792  HustleBoss.com catches up with light heavyweig...       17  \n",
              "3793                 BMX racing 15 expert blake paulson       17  \n",
              "3794                                   fishing for pike       17  \n",
              "3795  James Harden records 31 points, 11 rebounds an...       17  \n",
              "3796  As every year... we are going downhill racing ...       17  \n",
              "\n",
              "[15188 rows x 4 columns]"
            ],
            "text/html": [
              "\n",
              "  <div id=\"df-438708bc-9c12-4b09-a8e2-2bee0237bea3\">\n",
              "    <div class=\"colab-df-container\">\n",
              "      <div>\n",
              "<style scoped>\n",
              "    .dataframe tbody tr th:only-of-type {\n",
              "        vertical-align: middle;\n",
              "    }\n",
              "\n",
              "    .dataframe tbody tr th {\n",
              "        vertical-align: top;\n",
              "    }\n",
              "\n",
              "    .dataframe thead th {\n",
              "        text-align: right;\n",
              "    }\n",
              "</style>\n",
              "<table border=\"1\" class=\"dataframe\">\n",
              "  <thead>\n",
              "    <tr style=\"text-align: right;\">\n",
              "      <th></th>\n",
              "      <th>Video Id</th>\n",
              "      <th>Title</th>\n",
              "      <th>Description</th>\n",
              "      <th>Category</th>\n",
              "    </tr>\n",
              "  </thead>\n",
              "  <tbody>\n",
              "    <tr>\n",
              "      <th>0</th>\n",
              "      <td>oV-bTfF09jo</td>\n",
              "      <td>Super Girls</td>\n",
              "      <td>My first amv on my new computer with a better ...</td>\n",
              "      <td>1</td>\n",
              "    </tr>\n",
              "    <tr>\n",
              "      <th>1</th>\n",
              "      <td>cdDkpbVwLPw</td>\n",
              "      <td>The Art of Flying</td>\n",
              "      <td>Had to change the original soundtrack, because...</td>\n",
              "      <td>1</td>\n",
              "    </tr>\n",
              "    <tr>\n",
              "      <th>2</th>\n",
              "      <td>Udvj7HDeRcY</td>\n",
              "      <td>Kid vs. Kat Short - Run Coop Run</td>\n",
              "      <td></td>\n",
              "      <td>1</td>\n",
              "    </tr>\n",
              "    <tr>\n",
              "      <th>3</th>\n",
              "      <td>inaFXNedo1g</td>\n",
              "      <td>Kwaku &amp; Gloria; A Fairytale</td>\n",
              "      <td>Special thanks to every member of team Oneshot...</td>\n",
              "      <td>1</td>\n",
              "    </tr>\n",
              "    <tr>\n",
              "      <th>4</th>\n",
              "      <td>MZL2CSyLZ1c</td>\n",
              "      <td>Keep Holding On - Kagome and Sango</td>\n",
              "      <td>My ... 13th video 0.0 (bad number)\\n\\nMy frien...</td>\n",
              "      <td>1</td>\n",
              "    </tr>\n",
              "    <tr>\n",
              "      <th>...</th>\n",
              "      <td>...</td>\n",
              "      <td>...</td>\n",
              "      <td>...</td>\n",
              "      <td>...</td>\n",
              "    </tr>\n",
              "    <tr>\n",
              "      <th>3792</th>\n",
              "      <td>zyuvfwaIY8w</td>\n",
              "      <td>'Lonnie B' on sparring in front of Floyd, Hopk...</td>\n",
              "      <td>HustleBoss.com catches up with light heavyweig...</td>\n",
              "      <td>17</td>\n",
              "    </tr>\n",
              "    <tr>\n",
              "      <th>3793</th>\n",
              "      <td>zyUxzZZUL6o</td>\n",
              "      <td>Blake Paulson Fresno, CA</td>\n",
              "      <td>BMX racing 15 expert blake paulson</td>\n",
              "      <td>17</td>\n",
              "    </tr>\n",
              "    <tr>\n",
              "      <th>3794</th>\n",
              "      <td>ZzCDBLoRsAU</td>\n",
              "      <td>Ice pike</td>\n",
              "      <td>fishing for pike</td>\n",
              "      <td>17</td>\n",
              "    </tr>\n",
              "    <tr>\n",
              "      <th>3795</th>\n",
              "      <td>zzIPWNlexv4</td>\n",
              "      <td>James Harden Earns Second Triple-Double of Season</td>\n",
              "      <td>James Harden records 31 points, 11 rebounds an...</td>\n",
              "      <td>17</td>\n",
              "    </tr>\n",
              "    <tr>\n",
              "      <th>3796</th>\n",
              "      <td>ZzyxVM83pQ8</td>\n",
              "      <td>Stage6 Downhill Racing @ Col d`Izoard 2009</td>\n",
              "      <td>As every year... we are going downhill racing ...</td>\n",
              "      <td>17</td>\n",
              "    </tr>\n",
              "  </tbody>\n",
              "</table>\n",
              "<p>15188 rows × 4 columns</p>\n",
              "</div>\n",
              "      <button class=\"colab-df-convert\" onclick=\"convertToInteractive('df-438708bc-9c12-4b09-a8e2-2bee0237bea3')\"\n",
              "              title=\"Convert this dataframe to an interactive table.\"\n",
              "              style=\"display:none;\">\n",
              "        \n",
              "  <svg xmlns=\"http://www.w3.org/2000/svg\" height=\"24px\"viewBox=\"0 0 24 24\"\n",
              "       width=\"24px\">\n",
              "    <path d=\"M0 0h24v24H0V0z\" fill=\"none\"/>\n",
              "    <path d=\"M18.56 5.44l.94 2.06.94-2.06 2.06-.94-2.06-.94-.94-2.06-.94 2.06-2.06.94zm-11 1L8.5 8.5l.94-2.06 2.06-.94-2.06-.94L8.5 2.5l-.94 2.06-2.06.94zm10 10l.94 2.06.94-2.06 2.06-.94-2.06-.94-.94-2.06-.94 2.06-2.06.94z\"/><path d=\"M17.41 7.96l-1.37-1.37c-.4-.4-.92-.59-1.43-.59-.52 0-1.04.2-1.43.59L10.3 9.45l-7.72 7.72c-.78.78-.78 2.05 0 2.83L4 21.41c.39.39.9.59 1.41.59.51 0 1.02-.2 1.41-.59l7.78-7.78 2.81-2.81c.8-.78.8-2.07 0-2.86zM5.41 20L4 18.59l7.72-7.72 1.47 1.35L5.41 20z\"/>\n",
              "  </svg>\n",
              "      </button>\n",
              "      \n",
              "  <style>\n",
              "    .colab-df-container {\n",
              "      display:flex;\n",
              "      flex-wrap:wrap;\n",
              "      gap: 12px;\n",
              "    }\n",
              "\n",
              "    .colab-df-convert {\n",
              "      background-color: #E8F0FE;\n",
              "      border: none;\n",
              "      border-radius: 50%;\n",
              "      cursor: pointer;\n",
              "      display: none;\n",
              "      fill: #1967D2;\n",
              "      height: 32px;\n",
              "      padding: 0 0 0 0;\n",
              "      width: 32px;\n",
              "    }\n",
              "\n",
              "    .colab-df-convert:hover {\n",
              "      background-color: #E2EBFA;\n",
              "      box-shadow: 0px 1px 2px rgba(60, 64, 67, 0.3), 0px 1px 3px 1px rgba(60, 64, 67, 0.15);\n",
              "      fill: #174EA6;\n",
              "    }\n",
              "\n",
              "    [theme=dark] .colab-df-convert {\n",
              "      background-color: #3B4455;\n",
              "      fill: #D2E3FC;\n",
              "    }\n",
              "\n",
              "    [theme=dark] .colab-df-convert:hover {\n",
              "      background-color: #434B5C;\n",
              "      box-shadow: 0px 1px 3px 1px rgba(0, 0, 0, 0.15);\n",
              "      filter: drop-shadow(0px 1px 2px rgba(0, 0, 0, 0.3));\n",
              "      fill: #FFFFFF;\n",
              "    }\n",
              "  </style>\n",
              "\n",
              "      <script>\n",
              "        const buttonEl =\n",
              "          document.querySelector('#df-438708bc-9c12-4b09-a8e2-2bee0237bea3 button.colab-df-convert');\n",
              "        buttonEl.style.display =\n",
              "          google.colab.kernel.accessAllowed ? 'block' : 'none';\n",
              "\n",
              "        async function convertToInteractive(key) {\n",
              "          const element = document.querySelector('#df-438708bc-9c12-4b09-a8e2-2bee0237bea3');\n",
              "          const dataTable =\n",
              "            await google.colab.kernel.invokeFunction('convertToInteractive',\n",
              "                                                     [key], {});\n",
              "          if (!dataTable) return;\n",
              "\n",
              "          const docLinkHtml = 'Like what you see? Visit the ' +\n",
              "            '<a target=\"_blank\" href=https://colab.research.google.com/notebooks/data_table.ipynb>data table notebook</a>'\n",
              "            + ' to learn more about interactive tables.';\n",
              "          element.innerHTML = '';\n",
              "          dataTable['output_type'] = 'display_data';\n",
              "          await google.colab.output.renderOutput(dataTable, element);\n",
              "          const docLink = document.createElement('div');\n",
              "          docLink.innerHTML = docLinkHtml;\n",
              "          element.appendChild(docLink);\n",
              "        }\n",
              "      </script>\n",
              "    </div>\n",
              "  </div>\n",
              "  "
            ]
          },
          "metadata": {},
          "execution_count": 11
        }
      ]
    },
    {
      "cell_type": "code",
      "source": [
        "text_df = text_df[['Title', 'Category']]\n",
        "print(text_df.head())"
      ],
      "metadata": {
        "colab": {
          "base_uri": "https://localhost:8080/"
        },
        "id": "jvYf13rk6oko",
        "outputId": "b02549a2-e4c0-4959-b12a-fcad483cee26"
      },
      "execution_count": null,
      "outputs": [
        {
          "output_type": "stream",
          "name": "stdout",
          "text": [
            "                                Title Category\n",
            "0                         Super Girls        1\n",
            "1                   The Art of Flying        1\n",
            "2    Kid vs. Kat Short - Run Coop Run        1\n",
            "3         Kwaku & Gloria; A Fairytale        1\n",
            "4  Keep Holding On - Kagome and Sango        1\n"
          ]
        }
      ]
    },
    {
      "cell_type": "code",
      "source": [
        "from sklearn.model_selection import train_test_split\n",
        "\n",
        "train, test = train_test_split(text_df, test_size=0.2, random_state=42)\n",
        "X_train = train['Title']\n",
        "y_train = train['Category']\n",
        "\n",
        "X_test = test['Title']\n",
        "y_test = test['Category']\n",
        "\n",
        "print(X_train.shape)\n",
        "print(y_train.shape)\n",
        "\n",
        "print(X_test.shape)\n",
        "print(y_test.shape)"
      ],
      "metadata": {
        "colab": {
          "base_uri": "https://localhost:8080/"
        },
        "id": "wc4r45N56qk5",
        "outputId": "7abbca85-ded0-4d1a-9f14-36b904cfc364"
      },
      "execution_count": null,
      "outputs": [
        {
          "output_type": "stream",
          "name": "stdout",
          "text": [
            "(12150,)\n",
            "(12150,)\n",
            "(3038,)\n",
            "(3038,)\n"
          ]
        }
      ]
    },
    {
      "cell_type": "code",
      "source": [
        "tokenizer = Tokenizer(num_words=20000)\n",
        "tokenizer.fit_on_texts(text_df['Title'])\n",
        "X_train= tokenizer.texts_to_sequences(X_train)\n",
        "X_test= tokenizer.texts_to_sequences(X_test) "
      ],
      "metadata": {
        "id": "fmOzWy0u6szD"
      },
      "execution_count": null,
      "outputs": []
    },
    {
      "cell_type": "code",
      "source": [
        "maxlen=200\n",
        "X_train=pad_sequences(X_train,padding='post', maxlen=maxlen)\n",
        "X_test=pad_sequences(X_test,padding='post', maxlen=maxlen)"
      ],
      "metadata": {
        "id": "Evv7Hykl6u0i"
      },
      "execution_count": null,
      "outputs": []
    },
    {
      "cell_type": "code",
      "source": [
        "type(X_train)"
      ],
      "metadata": {
        "colab": {
          "base_uri": "https://localhost:8080/"
        },
        "id": "ueO0Al3g62xw",
        "outputId": "1adba471-3465-4b8f-95b7-9efbc7c2eaea"
      },
      "execution_count": null,
      "outputs": [
        {
          "output_type": "execute_result",
          "data": {
            "text/plain": [
              "numpy.ndarray"
            ]
          },
          "metadata": {},
          "execution_count": 25
        }
      ]
    },
    {
      "cell_type": "code",
      "source": [
        "y_train"
      ],
      "metadata": {
        "colab": {
          "base_uri": "https://localhost:8080/"
        },
        "id": "j2BG9T2L641B",
        "outputId": "801a226b-db39-40bc-8c4b-c28e5b2d5c35"
      },
      "execution_count": null,
      "outputs": [
        {
          "output_type": "execute_result",
          "data": {
            "text/plain": [
              "2054    10\n",
              "1530     2\n",
              "3476    10\n",
              "1303     2\n",
              "477     10\n",
              "        ..\n",
              "1394     2\n",
              "2027    17\n",
              "1593     2\n",
              "860      1\n",
              "3473     2\n",
              "Name: Category, Length: 12150, dtype: object"
            ]
          },
          "metadata": {},
          "execution_count": 17
        }
      ]
    },
    {
      "cell_type": "code",
      "source": [
        "image_input = Input(shape=(224, 224, 3))\n",
        "text_input = Input(shape=(None,))\n",
        "max_features = 20000\n",
        "\n",
        "# the first branch operates on the first input\n",
        "\n",
        "# resnet_base = tf.keras.applications.ResNet50(\n",
        "#     include_top=False,\n",
        "#     weights=\"imagenet\",\n",
        "#     input_tensor=None,\n",
        "#     input_shape=(480, 360, 3), #changed from (224,224,3)\n",
        "#     pooling='avg',\n",
        "#     classes=4 #changed from 2 to 4\n",
        "# )\n",
        "\n",
        "base_model = tf.keras.applications.MobileNetV2(\n",
        "    input_shape=(224, 224, 3),\n",
        "    alpha=1.0,\n",
        "    include_top=False,\n",
        "    weights=\"imagenet\",\n",
        "    pooling='avg',\n",
        "    classes=4\n",
        ")\n",
        "\n",
        "base_model.trainable = False\n",
        "\n",
        "x = Sequential()\n",
        "x.add(base_model)\n",
        "x.add(Flatten())\n",
        "\n",
        "# x = Flatten()(base_model.output)\n",
        "# cnn_model = Model(image_input, x)\n",
        "\n",
        "# the second branch opreates on the second input\n",
        "inputs = keras.Input(shape=(None,), dtype=\"int32\")\n",
        "y = layers.Embedding(max_features, 128)(inputs)\n",
        "y = layers.Bidirectional(layers.LSTM(64, return_sequences=True))(y)\n",
        "y = layers.Bidirectional(layers.LSTM(64))(y)\n",
        "y = layers.Flatten()(y)\n",
        "y = keras.Model(inputs, y)\n",
        "\n",
        "# combine the output of the two branches\n",
        "combined = concatenate([x.output, y.output])\n",
        "\n",
        "# apply a FC layer and then a regression prediction on the\n",
        "# combined outputs\n",
        "z = Dense(64, activation=\"relu\")(combined)\n",
        "# z = Dense(32, activation=\"relu\")(z)\n",
        "# z = Dense(4, activation=\"relu\")(z)\n",
        "# z = Dense(2, activation=\"relu\")(z)\n",
        "z = Dense(4, activation='softmax')(z)\n",
        "# our model will accept the inputs of the two branches and\n",
        "# then output a single value\n",
        "model = Model(inputs=[x.input, y.input], outputs=z)\n",
        "\n",
        "model.compile(loss=\"mean_absolute_percentage_error\", optimizer=Adam(learning_rate=1e-5),metrics=['accuracy'])"
      ],
      "metadata": {
        "id": "tNxlS9hX6xyt"
      },
      "execution_count": null,
      "outputs": []
    },
    {
      "cell_type": "code",
      "source": [
        "type(img_iter), type(X_train)"
      ],
      "metadata": {
        "colab": {
          "base_uri": "https://localhost:8080/"
        },
        "id": "2uO2hRvefe_-",
        "outputId": "f1f58a32-5824-4cd8-b24f-01de690b6c78"
      },
      "execution_count": null,
      "outputs": [
        {
          "output_type": "execute_result",
          "data": {
            "text/plain": [
              "(keras.preprocessing.image.DataFrameIterator, numpy.ndarray)"
            ]
          },
          "metadata": {},
          "execution_count": 27
        }
      ]
    },
    {
      "cell_type": "code",
      "source": [
        "checkpoint = ModelCheckpoint(\"lstm_model.h5\", monitor='val_accuracy', verbose=1, save_best_only=True, save_weights_only=False, mode='auto', period=1)\n",
        "early = EarlyStopping(monitor='val_accuracy', min_delta=0, patience=20, verbose=1, mode='auto')\n",
        "hist = model.fit([np.asarray(img_iter), X_train], [np.asarray(img_iter_val), X_test], epochs=20, batch_size=32, callbacks=[checkpoint, early])\n",
        "\n",
        "\t# x=[trainAttrX, trainImagesX], y=trainY,\n",
        "\t# validation_data=([testAttrX, testImagesX], testY),\n",
        "\t# epochs=200, batch_size=8)"
      ],
      "metadata": {
        "colab": {
          "base_uri": "https://localhost:8080/"
        },
        "id": "T8wBAonW664T",
        "outputId": "89b9bec8-62e5-45cb-ed63-5d59eef93291"
      },
      "execution_count": null,
      "outputs": [
        {
          "output_type": "stream",
          "name": "stdout",
          "text": [
            "WARNING:tensorflow:`period` argument is deprecated. Please use `save_freq` to specify the frequency in number of batches seen.\n"
          ]
        }
      ]
    },
    {
      "cell_type": "code",
      "source": [
        "plt.plot(hist.history['accuracy'])\n",
        "plt.plot(hist.history['val_accuracy'])\n",
        "plt.plot(hist.history[\"loss\"])\n",
        "plt.plot(hist.history['val_loss'])\n",
        "plt.title(\"RNN (LSTM) Model Accuracy\")\n",
        "plt.ylabel(\"Accuracy\")\n",
        "plt.xlabel(\"Epoch\")\n",
        "plt.legend([\"Accuracy\",\"Validation Accuracy\",\"Loss\",\"Validation Loss\"])\n",
        "plt.show()\n",
        "plt.savefig('rnn_lstm_acc.png')"
      ],
      "metadata": {
        "id": "szOVSVh869Gz"
      },
      "execution_count": null,
      "outputs": []
    }
  ]
}